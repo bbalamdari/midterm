{
 "cells": [
  {
   "cell_type": "code",
   "execution_count": 1,
   "metadata": {},
   "outputs": [
    {
     "name": "stderr",
     "output_type": "stream",
     "text": [
      "\n",
      "Attaching package: 'TSA'\n",
      "\n",
      "The following objects are masked from 'package:stats':\n",
      "\n",
      "    acf, arima\n",
      "\n",
      "The following object is masked from 'package:utils':\n",
      "\n",
      "    tar\n",
      "\n",
      "Loading required package: nlme\n",
      "This is mgcv 1.8-28. For overview type 'help(\"mgcv-package\")'.\n",
      "Loading required package: strucchange\n",
      "Loading required package: zoo\n",
      "\n",
      "Attaching package: 'zoo'\n",
      "\n",
      "The following objects are masked from 'package:base':\n",
      "\n",
      "    as.Date, as.Date.numeric\n",
      "\n",
      "Loading required package: sandwich\n",
      "Loading required package: urca\n",
      "Loading required package: lmtest\n"
     ]
    }
   ],
   "source": [
    "library(TSA)\n",
    "library(mgcv)\n",
    "library(MASS)\n",
    "library(data.table)\n",
    "library(vars)"
   ]
  },
  {
   "cell_type": "code",
   "execution_count": 2,
   "metadata": {},
   "outputs": [
    {
     "data": {
      "text/html": [
       "<table>\n",
       "<caption>A data.frame: 5 × 5</caption>\n",
       "<thead>\n",
       "\t<tr><th></th><th scope=col>DATE</th><th scope=col>USD.EU</th><th scope=col>USD.GBP</th><th scope=col>USD.AUD</th><th scope=col>USD.NZ</th></tr>\n",
       "\t<tr><th></th><th scope=col>&lt;fct&gt;</th><th scope=col>&lt;dbl&gt;</th><th scope=col>&lt;dbl&gt;</th><th scope=col>&lt;dbl&gt;</th><th scope=col>&lt;dbl&gt;</th></tr>\n",
       "</thead>\n",
       "<tbody>\n",
       "\t<tr><th scope=row>1</th><td>7/2/2014 </td><td>1.36536</td><td>1.709020</td><td>0.943540</td><td>0.87654</td></tr>\n",
       "\t<tr><th scope=row>2</th><td>7/9/2014 </td><td>1.36145</td><td>1.713425</td><td>0.938125</td><td>0.87810</td></tr>\n",
       "\t<tr><th scope=row>3</th><td>7/16/2014</td><td>1.35842</td><td>1.711780</td><td>0.937800</td><td>0.87798</td></tr>\n",
       "\t<tr><th scope=row>4</th><td>7/23/2014</td><td>1.35002</td><td>1.706680</td><td>0.939460</td><td>0.86816</td></tr>\n",
       "\t<tr><th scope=row>5</th><td>7/30/2014</td><td>1.34254</td><td>1.695720</td><td>0.938520</td><td>0.85302</td></tr>\n",
       "</tbody>\n",
       "</table>\n"
      ],
      "text/latex": [
       "A data.frame: 5 × 5\n",
       "\\begin{tabular}{r|lllll}\n",
       "  & DATE & USD.EU & USD.GBP & USD.AUD & USD.NZ\\\\\n",
       "  & <fct> & <dbl> & <dbl> & <dbl> & <dbl>\\\\\n",
       "\\hline\n",
       "\t1 & 7/2/2014  & 1.36536 & 1.709020 & 0.943540 & 0.87654\\\\\n",
       "\t2 & 7/9/2014  & 1.36145 & 1.713425 & 0.938125 & 0.87810\\\\\n",
       "\t3 & 7/16/2014 & 1.35842 & 1.711780 & 0.937800 & 0.87798\\\\\n",
       "\t4 & 7/23/2014 & 1.35002 & 1.706680 & 0.939460 & 0.86816\\\\\n",
       "\t5 & 7/30/2014 & 1.34254 & 1.695720 & 0.938520 & 0.85302\\\\\n",
       "\\end{tabular}\n"
      ],
      "text/markdown": [
       "\n",
       "A data.frame: 5 × 5\n",
       "\n",
       "| <!--/--> | DATE &lt;fct&gt; | USD.EU &lt;dbl&gt; | USD.GBP &lt;dbl&gt; | USD.AUD &lt;dbl&gt; | USD.NZ &lt;dbl&gt; |\n",
       "|---|---|---|---|---|---|\n",
       "| 1 | 7/2/2014  | 1.36536 | 1.709020 | 0.943540 | 0.87654 |\n",
       "| 2 | 7/9/2014  | 1.36145 | 1.713425 | 0.938125 | 0.87810 |\n",
       "| 3 | 7/16/2014 | 1.35842 | 1.711780 | 0.937800 | 0.87798 |\n",
       "| 4 | 7/23/2014 | 1.35002 | 1.706680 | 0.939460 | 0.86816 |\n",
       "| 5 | 7/30/2014 | 1.34254 | 1.695720 | 0.938520 | 0.85302 |\n",
       "\n"
      ],
      "text/plain": [
       "  DATE      USD.EU  USD.GBP  USD.AUD  USD.NZ \n",
       "1 7/2/2014  1.36536 1.709020 0.943540 0.87654\n",
       "2 7/9/2014  1.36145 1.713425 0.938125 0.87810\n",
       "3 7/16/2014 1.35842 1.711780 0.937800 0.87798\n",
       "4 7/23/2014 1.35002 1.706680 0.939460 0.86816\n",
       "5 7/30/2014 1.34254 1.695720 0.938520 0.85302"
      ]
     },
     "metadata": {},
     "output_type": "display_data"
    },
    {
     "data": {
      "text/html": [
       "<table>\n",
       "<caption>A data.frame: 5 × 5</caption>\n",
       "<thead>\n",
       "\t<tr><th></th><th scope=col>DATE</th><th scope=col>USD.EU</th><th scope=col>USD.GBP</th><th scope=col>USD.AUD</th><th scope=col>USD.NZ</th></tr>\n",
       "\t<tr><th></th><th scope=col>&lt;fct&gt;</th><th scope=col>&lt;dbl&gt;</th><th scope=col>&lt;dbl&gt;</th><th scope=col>&lt;dbl&gt;</th><th scope=col>&lt;dbl&gt;</th></tr>\n",
       "</thead>\n",
       "<tbody>\n",
       "\t<tr><th scope=row>262</th><td>7/3/2019 </td><td>1.13258</td><td>1.263780</td><td>0.699900</td><td>0.669360</td></tr>\n",
       "\t<tr><th scope=row>263</th><td>7/10/2019</td><td>1.12235</td><td>1.249475</td><td>0.695675</td><td>0.662525</td></tr>\n",
       "\t<tr><th scope=row>264</th><td>7/17/2019</td><td>1.12438</td><td>1.249420</td><td>0.701320</td><td>0.670400</td></tr>\n",
       "\t<tr><th scope=row>265</th><td>7/24/2019</td><td>1.11918</td><td>1.248320</td><td>0.702080</td><td>0.674440</td></tr>\n",
       "\t<tr><th scope=row>266</th><td>7/31/2019</td><td>1.11394</td><td>1.229240</td><td>0.690600</td><td>0.662780</td></tr>\n",
       "</tbody>\n",
       "</table>\n"
      ],
      "text/latex": [
       "A data.frame: 5 × 5\n",
       "\\begin{tabular}{r|lllll}\n",
       "  & DATE & USD.EU & USD.GBP & USD.AUD & USD.NZ\\\\\n",
       "  & <fct> & <dbl> & <dbl> & <dbl> & <dbl>\\\\\n",
       "\\hline\n",
       "\t262 & 7/3/2019  & 1.13258 & 1.263780 & 0.699900 & 0.669360\\\\\n",
       "\t263 & 7/10/2019 & 1.12235 & 1.249475 & 0.695675 & 0.662525\\\\\n",
       "\t264 & 7/17/2019 & 1.12438 & 1.249420 & 0.701320 & 0.670400\\\\\n",
       "\t265 & 7/24/2019 & 1.11918 & 1.248320 & 0.702080 & 0.674440\\\\\n",
       "\t266 & 7/31/2019 & 1.11394 & 1.229240 & 0.690600 & 0.662780\\\\\n",
       "\\end{tabular}\n"
      ],
      "text/markdown": [
       "\n",
       "A data.frame: 5 × 5\n",
       "\n",
       "| <!--/--> | DATE &lt;fct&gt; | USD.EU &lt;dbl&gt; | USD.GBP &lt;dbl&gt; | USD.AUD &lt;dbl&gt; | USD.NZ &lt;dbl&gt; |\n",
       "|---|---|---|---|---|---|\n",
       "| 262 | 7/3/2019  | 1.13258 | 1.263780 | 0.699900 | 0.669360 |\n",
       "| 263 | 7/10/2019 | 1.12235 | 1.249475 | 0.695675 | 0.662525 |\n",
       "| 264 | 7/17/2019 | 1.12438 | 1.249420 | 0.701320 | 0.670400 |\n",
       "| 265 | 7/24/2019 | 1.11918 | 1.248320 | 0.702080 | 0.674440 |\n",
       "| 266 | 7/31/2019 | 1.11394 | 1.229240 | 0.690600 | 0.662780 |\n",
       "\n"
      ],
      "text/plain": [
       "    DATE      USD.EU  USD.GBP  USD.AUD  USD.NZ  \n",
       "262 7/3/2019  1.13258 1.263780 0.699900 0.669360\n",
       "263 7/10/2019 1.12235 1.249475 0.695675 0.662525\n",
       "264 7/17/2019 1.12438 1.249420 0.701320 0.670400\n",
       "265 7/24/2019 1.11918 1.248320 0.702080 0.674440\n",
       "266 7/31/2019 1.11394 1.229240 0.690600 0.662780"
      ]
     },
     "metadata": {},
     "output_type": "display_data"
    }
   ],
   "source": [
    "data.raw = read.csv(\"Currency Conversion Data.csv\", header=TRUE)\n",
    "head(data.raw, n=5)\n",
    "tail(data.raw, n=5)\n",
    "data.raw=ts(data.raw, start=c(2014,7), frequency=52)\n"
   ]
  },
  {
   "cell_type": "code",
   "execution_count": 3,
   "metadata": {},
   "outputs": [
    {
     "data": {
      "text/html": [
       "<table>\n",
       "<caption>A matrix: 5 × 5 of type dbl</caption>\n",
       "<thead>\n",
       "\t<tr><th scope=col>DATE</th><th scope=col>USD.EU</th><th scope=col>USD.GBP</th><th scope=col>USD.AUD</th><th scope=col>USD.NZ</th></tr>\n",
       "</thead>\n",
       "<tbody>\n",
       "\t<tr><td>206</td><td>1.36536</td><td>1.709020</td><td>0.943540</td><td>0.87654</td></tr>\n",
       "\t<tr><td>222</td><td>1.36145</td><td>1.713425</td><td>0.938125</td><td>0.87810</td></tr>\n",
       "\t<tr><td>202</td><td>1.35842</td><td>1.711780</td><td>0.937800</td><td>0.87798</td></tr>\n",
       "\t<tr><td>209</td><td>1.35002</td><td>1.706680</td><td>0.939460</td><td>0.86816</td></tr>\n",
       "\t<tr><td>216</td><td>1.34254</td><td>1.695720</td><td>0.938520</td><td>0.85302</td></tr>\n",
       "</tbody>\n",
       "</table>\n"
      ],
      "text/latex": [
       "A matrix: 5 × 5 of type dbl\n",
       "\\begin{tabular}{lllll}\n",
       " DATE & USD.EU & USD.GBP & USD.AUD & USD.NZ\\\\\n",
       "\\hline\n",
       "\t 206 & 1.36536 & 1.709020 & 0.943540 & 0.87654\\\\\n",
       "\t 222 & 1.36145 & 1.713425 & 0.938125 & 0.87810\\\\\n",
       "\t 202 & 1.35842 & 1.711780 & 0.937800 & 0.87798\\\\\n",
       "\t 209 & 1.35002 & 1.706680 & 0.939460 & 0.86816\\\\\n",
       "\t 216 & 1.34254 & 1.695720 & 0.938520 & 0.85302\\\\\n",
       "\\end{tabular}\n"
      ],
      "text/markdown": [
       "\n",
       "A matrix: 5 × 5 of type dbl\n",
       "\n",
       "| DATE | USD.EU | USD.GBP | USD.AUD | USD.NZ |\n",
       "|---|---|---|---|---|\n",
       "| 206 | 1.36536 | 1.709020 | 0.943540 | 0.87654 |\n",
       "| 222 | 1.36145 | 1.713425 | 0.938125 | 0.87810 |\n",
       "| 202 | 1.35842 | 1.711780 | 0.937800 | 0.87798 |\n",
       "| 209 | 1.35002 | 1.706680 | 0.939460 | 0.86816 |\n",
       "| 216 | 1.34254 | 1.695720 | 0.938520 | 0.85302 |\n",
       "\n"
      ],
      "text/plain": [
       "     DATE USD.EU  USD.GBP  USD.AUD  USD.NZ \n",
       "[1,] 206  1.36536 1.709020 0.943540 0.87654\n",
       "[2,] 222  1.36145 1.713425 0.938125 0.87810\n",
       "[3,] 202  1.35842 1.711780 0.937800 0.87798\n",
       "[4,] 209  1.35002 1.706680 0.939460 0.86816\n",
       "[5,] 216  1.34254 1.695720 0.938520 0.85302"
      ]
     },
     "metadata": {},
     "output_type": "display_data"
    },
    {
     "data": {
      "text/html": [
       "<table>\n",
       "<caption>A matrix: 8 × 5 of type dbl</caption>\n",
       "<thead>\n",
       "\t<tr><th scope=col>DATE</th><th scope=col>USD.EU</th><th scope=col>USD.GBP</th><th scope=col>USD.AUD</th><th scope=col>USD.NZ</th></tr>\n",
       "</thead>\n",
       "<tbody>\n",
       "\t<tr><td>177</td><td>1.13110</td><td>1.271080</td><td>0.696960</td><td>0.661580</td></tr>\n",
       "\t<tr><td>182</td><td>1.12274</td><td>1.260380</td><td>0.687680</td><td>0.652480</td></tr>\n",
       "\t<tr><td>187</td><td>1.13562</td><td>1.270980</td><td>0.695320</td><td>0.662460</td></tr>\n",
       "\t<tr><td>215</td><td>1.13258</td><td>1.263780</td><td>0.699900</td><td>0.669360</td></tr>\n",
       "\t<tr><td>197</td><td>1.12235</td><td>1.249475</td><td>0.695675</td><td>0.662525</td></tr>\n",
       "\t<tr><td>203</td><td>1.12438</td><td>1.249420</td><td>0.701320</td><td>0.670400</td></tr>\n",
       "\t<tr><td>210</td><td>1.11918</td><td>1.248320</td><td>0.702080</td><td>0.674440</td></tr>\n",
       "\t<tr><td>217</td><td>1.11394</td><td>1.229240</td><td>0.690600</td><td>0.662780</td></tr>\n",
       "</tbody>\n",
       "</table>\n"
      ],
      "text/latex": [
       "A matrix: 8 × 5 of type dbl\n",
       "\\begin{tabular}{lllll}\n",
       " DATE & USD.EU & USD.GBP & USD.AUD & USD.NZ\\\\\n",
       "\\hline\n",
       "\t 177 & 1.13110 & 1.271080 & 0.696960 & 0.661580\\\\\n",
       "\t 182 & 1.12274 & 1.260380 & 0.687680 & 0.652480\\\\\n",
       "\t 187 & 1.13562 & 1.270980 & 0.695320 & 0.662460\\\\\n",
       "\t 215 & 1.13258 & 1.263780 & 0.699900 & 0.669360\\\\\n",
       "\t 197 & 1.12235 & 1.249475 & 0.695675 & 0.662525\\\\\n",
       "\t 203 & 1.12438 & 1.249420 & 0.701320 & 0.670400\\\\\n",
       "\t 210 & 1.11918 & 1.248320 & 0.702080 & 0.674440\\\\\n",
       "\t 217 & 1.11394 & 1.229240 & 0.690600 & 0.662780\\\\\n",
       "\\end{tabular}\n"
      ],
      "text/markdown": [
       "\n",
       "A matrix: 8 × 5 of type dbl\n",
       "\n",
       "| DATE | USD.EU | USD.GBP | USD.AUD | USD.NZ |\n",
       "|---|---|---|---|---|\n",
       "| 177 | 1.13110 | 1.271080 | 0.696960 | 0.661580 |\n",
       "| 182 | 1.12274 | 1.260380 | 0.687680 | 0.652480 |\n",
       "| 187 | 1.13562 | 1.270980 | 0.695320 | 0.662460 |\n",
       "| 215 | 1.13258 | 1.263780 | 0.699900 | 0.669360 |\n",
       "| 197 | 1.12235 | 1.249475 | 0.695675 | 0.662525 |\n",
       "| 203 | 1.12438 | 1.249420 | 0.701320 | 0.670400 |\n",
       "| 210 | 1.11918 | 1.248320 | 0.702080 | 0.674440 |\n",
       "| 217 | 1.11394 | 1.229240 | 0.690600 | 0.662780 |\n",
       "\n"
      ],
      "text/plain": [
       "     DATE USD.EU  USD.GBP  USD.AUD  USD.NZ  \n",
       "[1,] 177  1.13110 1.271080 0.696960 0.661580\n",
       "[2,] 182  1.12274 1.260380 0.687680 0.652480\n",
       "[3,] 187  1.13562 1.270980 0.695320 0.662460\n",
       "[4,] 215  1.13258 1.263780 0.699900 0.669360\n",
       "[5,] 197  1.12235 1.249475 0.695675 0.662525\n",
       "[6,] 203  1.12438 1.249420 0.701320 0.670400\n",
       "[7,] 210  1.11918 1.248320 0.702080 0.674440\n",
       "[8,] 217  1.11394 1.229240 0.690600 0.662780"
      ]
     },
     "metadata": {},
     "output_type": "display_data"
    }
   ],
   "source": [
    "par(mfrow=c(2,3))\n",
    "\n",
    "data=data.raw[1:(nrow(data.raw)-8),]\n",
    "test=data.raw[(nrow(data.raw)-7):nrow(data.raw),]\n",
    "\n",
    "head(data, n=5)\n",
    "test"
   ]
  },
  {
   "cell_type": "code",
   "execution_count": 4,
   "metadata": {},
   "outputs": [
    {
     "data": {
      "image/png": "[encoded data removed]",
      "text/plain": [
       "Plot with title \"pacf di\""
      ]
     },
     "metadata": {},
     "output_type": "display_data"
    }
   ],
   "source": [
    "data.dif=ts(diff(data[,-1]), start=c(2014,7), frequency=52)\n",
    "\n",
    "par(mfrow=c(4,3))\n",
    "for (i in 1:4){\n",
    "plot(data.dif[,i], main=colnames(data.dif)[i], type=\"l\", ylab=\"Dif\")\n",
    "acf(data.dif[,i], main=\" acf dif\", lag.max=52)\n",
    "pacf(data.dif[,i], main=\"pacf di\", lag.max=52)    \n",
    "}\n"
   ]
  },
  {
   "cell_type": "code",
   "execution_count": 5,
   "metadata": {},
   "outputs": [
    {
     "name": "stdout",
     "output_type": "stream",
     "text": [
      "[1] \"USD.EU\"\n",
      "AR/MA\n",
      "  0 1 2 3 4 5 6 7\n",
      "0 x o o o x o o o\n",
      "1 x o o o o o o o\n",
      "2 x x o o x o o o\n",
      "3 x x x o o o o o\n",
      "4 x x x x o o o o\n",
      "5 o x x x o o o o\n",
      "6 o x x o o o o o\n",
      "7 x x x o o o o o\n",
      "[1] \"USD.GBP\"\n",
      "AR/MA\n",
      "  0 1 2 3 4 5 6 7\n",
      "0 x o o o o o o o\n",
      "1 x x o o o o o o\n",
      "2 o x o o o o o o\n",
      "3 x o x o o o o o\n",
      "4 x x x o x o o o\n",
      "5 o x x x o o o o\n",
      "6 x o o o o x o o\n",
      "7 x x o o o x o o\n",
      "[1] \"USD.AUD\"\n",
      "AR/MA\n",
      "  0 1 2 3 4 5 6 7\n",
      "0 x o o o o o o o\n",
      "1 x x o o o o o o\n",
      "2 o x o o o o o o\n",
      "3 x x o o o o o o\n",
      "4 x x o x o o o o\n",
      "5 o x x x o o o o\n",
      "6 x x o x o x o o\n",
      "7 x o o x x o o o\n",
      "[1] \"USD.NZ\"\n",
      "AR/MA\n",
      "  0 1 2 3 4 5 6 7\n",
      "0 x o o o o o o x\n",
      "1 x o o o o o o x\n",
      "2 x o o o o o o x\n",
      "3 o x o o o o o x\n",
      "4 o o x o o o o o\n",
      "5 x x o o o o o o\n",
      "6 x o o o o o o o\n",
      "7 x x o o x x x o\n"
     ]
    }
   ],
   "source": [
    "## Order selection -- EACF\n",
    "\n",
    "for (i in 1:4){\n",
    " print(colnames(data.dif)[i])\n",
    "    eacf(data.dif[,i],ar.max = 7, ma.max = 7)    \n",
    "    \n",
    "}\n"
   ]
  },
  {
   "cell_type": "code",
   "execution_count": 6,
   "metadata": {},
   "outputs": [
    {
     "name": "stdout",
     "output_type": "stream",
     "text": [
      "[1] \"0 0 0 -667.907186624859\"\n",
      "[1] \"0 0 1 -965.020228901173\"\n",
      "[1] \"0 0 2 -1166.94962687624\"\n",
      "[1] \"0 0 3 -1307.51450667435\"\n",
      "[1] \"0 0 4 -1350.96966029842\"\n",
      "[1] \"0 0 5 -1407.56888935529\"\n",
      "[1] \"0 1 0 -1585.88895547573\"\n",
      "[1] \"0 1 1 -1591.31848875027\"\n",
      "[1] \"0 1 2 -1589.49861468133\"\n",
      "[1] \"0 1 3 -1588.56349192871\"\n",
      "[1] \"0 1 4 -1587.26880902788\"\n",
      "[1] \"0 1 5 -1591.33234256355\"\n",
      "[1] \"1 0 0 -1583.99000027371\"\n",
      "[1] \"1 0 1 -1589.76392542343\"\n",
      "[1] \"1 0 2 -1587.86331683473\"\n",
      "[1] \"1 0 3 -1590.24433939132\"\n"
     ]
    },
    {
     "name": "stderr",
     "output_type": "stream",
     "text": [
      "Warning message in stats::arima(x = x, order = order, seasonal = seasonal, xreg = xreg, :\n",
      "\"possible convergence problem: optim gave code = 1\""
     ]
    },
    {
     "name": "stdout",
     "output_type": "stream",
     "text": [
      "[1] \"1 0 4 -1584.62651702513\"\n",
      "[1] \"1 0 5 -1578.71322998923\"\n",
      "[1] \"1 1 0 -1590.53007899432\"\n",
      "[1] \"1 1 1 -1589.41792144268\"\n",
      "[1] \"1 1 2 -1587.63186234235\"\n",
      "[1] \"1 1 3 -1586.70459237841\"\n",
      "[1] \"1 1 4 -1590.58112337327\"\n",
      "[1] \"1 1 5 -1590.481319555\"\n"
     ]
    },
    {
     "name": "stderr",
     "output_type": "stream",
     "text": [
      "Warning message in log(s2):\n",
      "\"NaNs produced\"Warning message in log(s2):\n",
      "\"NaNs produced\""
     ]
    },
    {
     "name": "stdout",
     "output_type": "stream",
     "text": [
      "[1] \"2 0 0 -1589.01607137053\"\n"
     ]
    },
    {
     "name": "stderr",
     "output_type": "stream",
     "text": [
      "Warning message in stats::arima(x = x, order = order, seasonal = seasonal, xreg = xreg, :\n",
      "\"possible convergence problem: optim gave code = 1\""
     ]
    },
    {
     "name": "stdout",
     "output_type": "stream",
     "text": [
      "[1] \"2 0 1 -1587.81398114834\"\n",
      "[1] \"2 0 2 -1562.87958355035\"\n",
      "[1] \"2 0 3 -1582.23643011977\"\n",
      "[1] \"2 0 4 -1581.07790089763\"\n"
     ]
    },
    {
     "name": "stderr",
     "output_type": "stream",
     "text": [
      "Warning message in log(s2):\n",
      "\"NaNs produced\"Warning message in stats::arima(x = x, order = order, seasonal = seasonal, xreg = xreg, :\n",
      "\"possible convergence problem: optim gave code = 1\""
     ]
    },
    {
     "name": "stdout",
     "output_type": "stream",
     "text": [
      "[1] \"2 0 5 -1589.1573897905\"\n",
      "[1] \"2 1 0 -1590.03130289968\"\n",
      "[1] \"2 1 1 -1588.07993701488\"\n",
      "[1] \"2 1 2 -1597.5778939598\"\n",
      "[1] \"2 1 3 -1596.07487874517\"\n",
      "[1] \"2 1 4 -1590.05807424571\"\n",
      "[1] \"2 1 5 -1589.00713614334\"\n",
      "[1] \"3 0 0 -1588.32237120979\"\n"
     ]
    },
    {
     "name": "stderr",
     "output_type": "stream",
     "text": [
      "Warning message in stats::arima(x = x, order = order, seasonal = seasonal, xreg = xreg, :\n",
      "\"possible convergence problem: optim gave code = 1\""
     ]
    },
    {
     "name": "stdout",
     "output_type": "stream",
     "text": [
      "[1] \"3 0 1 -1585.77299238515\"\n"
     ]
    },
    {
     "name": "stderr",
     "output_type": "stream",
     "text": [
      "Warning message in stats::arima(x = x, order = order, seasonal = seasonal, xreg = xreg, :\n",
      "\"possible convergence problem: optim gave code = 1\""
     ]
    },
    {
     "name": "stdout",
     "output_type": "stream",
     "text": [
      "[1] \"3 0 2 -1595.80545429228\"\n"
     ]
    },
    {
     "name": "stderr",
     "output_type": "stream",
     "text": [
      "Warning message in stats::arima(x = x, order = order, seasonal = seasonal, xreg = xreg, :\n",
      "\"possible convergence problem: optim gave code = 1\""
     ]
    },
    {
     "name": "stdout",
     "output_type": "stream",
     "text": [
      "[1] \"3 0 3 -1594.25396124766\"\n",
      "[1] \"3 0 4 -1584.42669088944\"\n"
     ]
    },
    {
     "name": "stderr",
     "output_type": "stream",
     "text": [
      "Warning message in stats::arima(x = x, order = order, seasonal = seasonal, xreg = xreg, :\n",
      "\"possible convergence problem: optim gave code = 1\""
     ]
    },
    {
     "name": "stdout",
     "output_type": "stream",
     "text": [
      "[1] \"3 0 5 -1591.02616132846\"\n",
      "[1] \"3 1 0 -1588.23056012765\"\n",
      "[1] \"3 1 1 -1586.68497286137\"\n",
      "[1] \"3 1 2 -1596.04921186624\"\n",
      "[1] \"3 1 3 -1596.82331479248\"\n",
      "[1] \"3 1 4 -1594.82630535245\"\n",
      "[1] \"3 1 5 -1595.13353147381\"\n",
      "[1] \"4 0 0 -1586.47097623543\"\n",
      "[1] \"4 0 1 -1585.42663541594\"\n",
      "[1] \"4 0 2 -1583.41287590811\"\n"
     ]
    },
    {
     "name": "stderr",
     "output_type": "stream",
     "text": [
      "Warning message in stats::arima(x = x, order = order, seasonal = seasonal, xreg = xreg, :\n",
      "\"possible convergence problem: optim gave code = 1\""
     ]
    },
    {
     "name": "stdout",
     "output_type": "stream",
     "text": [
      "[1] \"4 0 3 -1593.19012019566\"\n"
     ]
    },
    {
     "name": "stderr",
     "output_type": "stream",
     "text": [
      "Warning message in stats::arima(x = x, order = order, seasonal = seasonal, xreg = xreg, :\n",
      "\"possible convergence problem: optim gave code = 1\""
     ]
    },
    {
     "name": "stdout",
     "output_type": "stream",
     "text": [
      "[1] \"4 0 4 -1574.46877969434\"\n"
     ]
    },
    {
     "name": "stderr",
     "output_type": "stream",
     "text": [
      "Warning message in stats::arima(x = x, order = order, seasonal = seasonal, xreg = xreg, :\n",
      "\"possible convergence problem: optim gave code = 1\""
     ]
    },
    {
     "name": "stdout",
     "output_type": "stream",
     "text": [
      "[1] \"4 0 5 -1592.33526264643\"\n",
      "[1] \"4 1 0 -1589.34814478481\"\n",
      "[1] \"4 1 1 -1591.01047923785\"\n",
      "[1] \"4 1 2 -1589.01416049708\"\n",
      "[1] \"4 1 3 -1587.461905832\"\n",
      "[1] \"4 1 4 -1593.1122948953\"\n",
      "[1] \"4 1 5 -1595.65673150136\"\n",
      "[1] \"5 0 0 -1587.84675736071\"\n",
      "[1] \"5 0 1 -1583.43203638994\"\n",
      "[1] \"5 0 2 -1593.00563308834\"\n"
     ]
    },
    {
     "name": "stderr",
     "output_type": "stream",
     "text": [
      "Warning message in stats::arima(x = x, order = order, seasonal = seasonal, xreg = xreg, :\n",
      "\"possible convergence problem: optim gave code = 1\""
     ]
    },
    {
     "name": "stdout",
     "output_type": "stream",
     "text": [
      "[1] \"5 0 3 -1591.26425069355\"\n"
     ]
    },
    {
     "name": "stderr",
     "output_type": "stream",
     "text": [
      "Warning message in stats::arima(x = x, order = order, seasonal = seasonal, xreg = xreg, :\n",
      "\"possible convergence problem: optim gave code = 1\""
     ]
    },
    {
     "name": "stdout",
     "output_type": "stream",
     "text": [
      "[1] \"5 0 4 -1589.03566948215\"\n"
     ]
    },
    {
     "name": "stderr",
     "output_type": "stream",
     "text": [
      "Warning message in stats::arima(x = x, order = order, seasonal = seasonal, xreg = xreg, :\n",
      "\"possible convergence problem: optim gave code = 1\""
     ]
    },
    {
     "name": "stdout",
     "output_type": "stream",
     "text": [
      "[1] \"5 0 5 -1588.83638296213\"\n",
      "[1] \"5 1 0 -1589.91629503787\"\n",
      "[1] \"5 1 1 -1587.91782570337\"\n",
      "[1] \"5 1 2 -1587.2360885225\"\n",
      "[1] \"5 1 3 -1595.19587050724\"\n",
      "[1] \"5 1 4 -1595.5478202137\"\n",
      "[1] \"5 1 5 -1595.92221828407\"\n"
     ]
    },
    {
     "data": {
      "text/html": [
       "<table>\n",
       "<caption>A data.frame: 6 × 4</caption>\n",
       "<thead>\n",
       "\t<tr><th></th><th scope=col>p</th><th scope=col>d</th><th scope=col>q</th><th scope=col>AIC</th></tr>\n",
       "\t<tr><th></th><th scope=col>&lt;dbl&gt;</th><th scope=col>&lt;dbl&gt;</th><th scope=col>&lt;dbl&gt;</th><th scope=col>&lt;dbl&gt;</th></tr>\n",
       "</thead>\n",
       "<tbody>\n",
       "\t<tr><th scope=row>40</th><td>3</td><td>0</td><td>2</td><td>-1595.805</td></tr>\n",
       "\t<tr><th scope=row>73</th><td>5</td><td>1</td><td>5</td><td>-1595.922</td></tr>\n",
       "\t<tr><th scope=row>46</th><td>3</td><td>1</td><td>2</td><td>-1596.049</td></tr>\n",
       "\t<tr><th scope=row>35</th><td>2</td><td>1</td><td>3</td><td>-1596.075</td></tr>\n",
       "\t<tr><th scope=row>47</th><td>3</td><td>1</td><td>3</td><td>-1596.823</td></tr>\n",
       "\t<tr><th scope=row>34</th><td>2</td><td>1</td><td>2</td><td>-1597.578</td></tr>\n",
       "</tbody>\n",
       "</table>\n"
      ],
      "text/latex": [
       "A data.frame: 6 × 4\n",
       "\\begin{tabular}{r|llll}\n",
       "  & p & d & q & AIC\\\\\n",
       "  & <dbl> & <dbl> & <dbl> & <dbl>\\\\\n",
       "\\hline\n",
       "\t40 & 3 & 0 & 2 & -1595.805\\\\\n",
       "\t73 & 5 & 1 & 5 & -1595.922\\\\\n",
       "\t46 & 3 & 1 & 2 & -1596.049\\\\\n",
       "\t35 & 2 & 1 & 3 & -1596.075\\\\\n",
       "\t47 & 3 & 1 & 3 & -1596.823\\\\\n",
       "\t34 & 2 & 1 & 2 & -1597.578\\\\\n",
       "\\end{tabular}\n"
      ],
      "text/markdown": [
       "\n",
       "A data.frame: 6 × 4\n",
       "\n",
       "| <!--/--> | p &lt;dbl&gt; | d &lt;dbl&gt; | q &lt;dbl&gt; | AIC &lt;dbl&gt; |\n",
       "|---|---|---|---|---|\n",
       "| 40 | 3 | 0 | 2 | -1595.805 |\n",
       "| 73 | 5 | 1 | 5 | -1595.922 |\n",
       "| 46 | 3 | 1 | 2 | -1596.049 |\n",
       "| 35 | 2 | 1 | 3 | -1596.075 |\n",
       "| 47 | 3 | 1 | 3 | -1596.823 |\n",
       "| 34 | 2 | 1 | 2 | -1597.578 |\n",
       "\n"
      ],
      "text/plain": [
       "   p d q AIC      \n",
       "40 3 0 2 -1595.805\n",
       "73 5 1 5 -1595.922\n",
       "46 3 1 2 -1596.049\n",
       "35 2 1 3 -1596.075\n",
       "47 3 1 3 -1596.823\n",
       "34 2 1 2 -1597.578"
      ]
     },
     "metadata": {},
     "output_type": "display_data"
    },
    {
     "name": "stdout",
     "output_type": "stream",
     "text": [
      "[1] \"USD.EU\"\n"
     ]
    }
   ],
   "source": [
    "## Order selection -- AIC\n",
    "\n",
    "test_modelA <- function(p,d,q){\n",
    " mod = arima(data[,2], order=c(p,d,q), method=\"ML\")\n",
    " current.aic = AIC(mod)\n",
    " df = data.frame(p,d,q,current.aic)\n",
    " names(df) <- c(\"p\",\"d\",\"q\",\"AIC\")\n",
    " print(paste(p,d,q,current.aic,sep=\" \"))\n",
    "    \n",
    " return(df)\n",
    " }\n",
    " \n",
    " orders = data.frame(Inf,Inf,Inf,Inf)\n",
    " names(orders) <- c(\"p\",\"d\",\"q\",\"AIC\")\n",
    " \n",
    " \n",
    " for (p in 0:5){\n",
    "   for (d in 0:1){\n",
    "     for (q in 0:5) {\n",
    "       possibleError <- tryCatch(\n",
    "         orders<-rbind(orders,test_modelA(p,d,q)),\n",
    "         error=function(e) e\n",
    "       )\n",
    "       if(inherits(possibleError, \"error\")) next\n",
    " \n",
    "     }\n",
    "   }\n",
    " }\n",
    " orders <- orders[order(-orders$AIC),]\n",
    " tail(orders)\n",
    "print(colnames(data)[2])"
   ]
  },
  {
   "cell_type": "code",
   "execution_count": 7,
   "metadata": {},
   "outputs": [
    {
     "name": "stdout",
     "output_type": "stream",
     "text": [
      "[1] \"0 0 0 -330.301720322643\"\n",
      "[1] \"0 0 1 -650.076776990763\"\n",
      "[1] \"0 0 2 -893.160930747565\"\n",
      "[1] \"0 0 3 -1032.92784668572\"\n",
      "[1] \"0 0 4 -1130.19864791137\"\n",
      "[1] \"0 0 5 -1193.09528310091\"\n",
      "[1] \"0 1 0 -1433.70198442377\"\n",
      "[1] \"0 1 1 -1446.50226421002\"\n",
      "[1] \"0 1 2 -1445.55302814691\"\n",
      "[1] \"0 1 3 -1445.18442233315\"\n",
      "[1] \"0 1 4 -1444.76997716519\"\n",
      "[1] \"0 1 5 -1443.21758522843\"\n",
      "[1] \"1 0 0 -1430.3568403839\"\n",
      "[1] \"1 0 1 -1443.46458094139\"\n",
      "[1] \"1 0 2 -1442.39255408849\"\n",
      "[1] \"1 0 3 -1440.49351435283\"\n",
      "[1] \"1 0 4 -1438.87212276841\"\n",
      "[1] \"1 0 5 -1432.82491475648\"\n",
      "[1] \"1 1 0 -1443.1765144326\"\n",
      "[1] \"1 1 1 -1445.13588532426\"\n",
      "[1] \"1 1 2 -1444.025687351\"\n",
      "[1] \"1 1 3 -1445.03742664363\"\n",
      "[1] \"1 1 4 -1443.25781343478\"\n",
      "[1] \"1 1 5 -1441.23746295156\"\n",
      "[1] \"2 0 0 -1440.15729834173\"\n",
      "[1] \"2 0 1 -1441.99774707315\"\n"
     ]
    },
    {
     "name": "stderr",
     "output_type": "stream",
     "text": [
      "Warning message in log(s2):\n",
      "\"NaNs produced\"Warning message in log(s2):\n",
      "\"NaNs produced\"Warning message in log(s2):\n",
      "\"NaNs produced\"Warning message in log(s2):\n",
      "\"NaNs produced\""
     ]
    },
    {
     "name": "stdout",
     "output_type": "stream",
     "text": [
      "[1] \"2 0 2 -1445.20505830881\"\n"
     ]
    },
    {
     "name": "stderr",
     "output_type": "stream",
     "text": [
      "Warning message in log(s2):\n",
      "\"NaNs produced\"Warning message in log(s2):\n",
      "\"NaNs produced\""
     ]
    },
    {
     "name": "stdout",
     "output_type": "stream",
     "text": [
      "[1] \"2 0 3 -1444.09174758553\"\n",
      "[1] \"2 0 4 -1442.6806452484\"\n"
     ]
    },
    {
     "name": "stderr",
     "output_type": "stream",
     "text": [
      "Warning message in stats::arima(x = x, order = order, seasonal = seasonal, xreg = xreg, :\n",
      "\"possible convergence problem: optim gave code = 1\""
     ]
    },
    {
     "name": "stdout",
     "output_type": "stream",
     "text": [
      "[1] \"2 0 5 -1438.06141840881\"\n",
      "[1] \"2 1 0 -1446.66976705289\"\n",
      "[1] \"2 1 1 -1444.74438429653\"\n",
      "[1] \"2 1 2 -1444.85347711051\"\n",
      "[1] \"2 1 3 -1443.21861897562\"\n",
      "[1] \"2 1 4 -1441.25234127713\"\n",
      "[1] \"2 1 5 -1439.24795087742\"\n"
     ]
    },
    {
     "name": "stderr",
     "output_type": "stream",
     "text": [
      "Warning message in stats::arima(x = x, order = order, seasonal = seasonal, xreg = xreg, :\n",
      "\"possible convergence problem: optim gave code = 1\""
     ]
    },
    {
     "name": "stdout",
     "output_type": "stream",
     "text": [
      "[1] \"3 0 1 -1441.31390077414\"\n",
      "[1] \"3 0 2 -1441.70693606049\"\n"
     ]
    },
    {
     "name": "stderr",
     "output_type": "stream",
     "text": [
      "Warning message in log(s2):\n",
      "\"NaNs produced\"Warning message in log(s2):\n",
      "\"NaNs produced\""
     ]
    },
    {
     "name": "stdout",
     "output_type": "stream",
     "text": [
      "[1] \"3 0 3 -1440.00791947151\"\n"
     ]
    },
    {
     "name": "stderr",
     "output_type": "stream",
     "text": [
      "Warning message in log(s2):\n",
      "\"NaNs produced\"Warning message in log(s2):\n",
      "\"NaNs produced\"Warning message in log(s2):\n",
      "\"NaNs produced\"Warning message in log(s2):\n",
      "\"NaNs produced\"Warning message in log(s2):\n",
      "\"NaNs produced\""
     ]
    },
    {
     "name": "stdout",
     "output_type": "stream",
     "text": [
      "[1] \"3 0 5 -1425.45784607734\"\n",
      "[1] \"3 1 0 -1444.81182290483\"\n",
      "[1] \"3 1 1 -1442.93597408179\"\n",
      "[1] \"3 1 2 -1443.93996559177\"\n"
     ]
    },
    {
     "name": "stderr",
     "output_type": "stream",
     "text": [
      "Warning message in stats::arima(x = x, order = order, seasonal = seasonal, xreg = xreg, :\n",
      "\"possible convergence problem: optim gave code = 1\""
     ]
    },
    {
     "name": "stdout",
     "output_type": "stream",
     "text": [
      "[1] \"3 1 3 -1442.72818405331\"\n",
      "[1] \"3 1 4 -1439.23263323571\"\n",
      "[1] \"3 1 5 -1444.21588059596\"\n",
      "[1] \"4 0 0 -1441.59064899539\"\n",
      "[1] \"4 0 1 -1439.9940869594\"\n",
      "[1] \"4 0 2 -1440.02360447202\"\n",
      "[1] \"4 1 0 -1443.67914760522\"\n",
      "[1] \"4 1 1 -1443.05371295972\"\n",
      "[1] \"4 1 2 -1441.27845006902\"\n",
      "[1] \"4 1 3 -1439.24891960863\"\n",
      "[1] \"4 1 4 -1437.25043941691\"\n"
     ]
    },
    {
     "name": "stderr",
     "output_type": "stream",
     "text": [
      "Warning message in stats::arima(x = x, order = order, seasonal = seasonal, xreg = xreg, :\n",
      "\"possible convergence problem: optim gave code = 1\""
     ]
    },
    {
     "name": "stdout",
     "output_type": "stream",
     "text": [
      "[1] \"4 1 5 -1439.10544807646\"\n",
      "[1] \"5 0 0 -1440.52599551432\"\n",
      "[1] \"5 0 1 -1439.88962318389\"\n",
      "[1] \"5 0 2 -1438.55100066543\"\n",
      "[1] \"5 0 3 -1439.98993542231\"\n"
     ]
    },
    {
     "name": "stderr",
     "output_type": "stream",
     "text": [
      "Warning message in stats::arima(x = x, order = order, seasonal = seasonal, xreg = xreg, :\n",
      "\"possible convergence problem: optim gave code = 1\""
     ]
    },
    {
     "name": "stdout",
     "output_type": "stream",
     "text": [
      "[1] \"5 0 4 -1436.61006643388\"\n",
      "[1] \"5 1 0 -1443.48141056784\"\n",
      "[1] \"5 1 1 -1441.50727032089\"\n",
      "[1] \"5 1 2 -1439.54735707939\"\n"
     ]
    },
    {
     "name": "stderr",
     "output_type": "stream",
     "text": [
      "Warning message in stats::arima(x = x, order = order, seasonal = seasonal, xreg = xreg, :\n",
      "\"possible convergence problem: optim gave code = 1\""
     ]
    },
    {
     "name": "stdout",
     "output_type": "stream",
     "text": [
      "[1] \"5 1 3 -1440.45038159771\"\n"
     ]
    },
    {
     "name": "stderr",
     "output_type": "stream",
     "text": [
      "Warning message in stats::arima(x = x, order = order, seasonal = seasonal, xreg = xreg, :\n",
      "\"possible convergence problem: optim gave code = 1\""
     ]
    },
    {
     "name": "stdout",
     "output_type": "stream",
     "text": [
      "[1] \"5 1 4 -1439.26051115593\"\n"
     ]
    },
    {
     "name": "stderr",
     "output_type": "stream",
     "text": [
      "Warning message in stats::arima(x = x, order = order, seasonal = seasonal, xreg = xreg, :\n",
      "\"possible convergence problem: optim gave code = 1\""
     ]
    },
    {
     "name": "stdout",
     "output_type": "stream",
     "text": [
      "[1] \"5 1 5 -1437.02506069357\"\n"
     ]
    },
    {
     "data": {
      "text/html": [
       "<table>\n",
       "<caption>A data.frame: 6 × 4</caption>\n",
       "<thead>\n",
       "\t<tr><th></th><th scope=col>p</th><th scope=col>d</th><th scope=col>q</th><th scope=col>AIC</th></tr>\n",
       "\t<tr><th></th><th scope=col>&lt;dbl&gt;</th><th scope=col>&lt;dbl&gt;</th><th scope=col>&lt;dbl&gt;</th><th scope=col>&lt;dbl&gt;</th></tr>\n",
       "</thead>\n",
       "<tbody>\n",
       "\t<tr><th scope=row>21</th><td>1</td><td>1</td><td>1</td><td>-1445.136</td></tr>\n",
       "\t<tr><th scope=row>11</th><td>0</td><td>1</td><td>3</td><td>-1445.184</td></tr>\n",
       "\t<tr><th scope=row>28</th><td>2</td><td>0</td><td>2</td><td>-1445.205</td></tr>\n",
       "\t<tr><th scope=row>10</th><td>0</td><td>1</td><td>2</td><td>-1445.553</td></tr>\n",
       "\t<tr><th scope=row>9</th><td>0</td><td>1</td><td>1</td><td>-1446.502</td></tr>\n",
       "\t<tr><th scope=row>32</th><td>2</td><td>1</td><td>0</td><td>-1446.670</td></tr>\n",
       "</tbody>\n",
       "</table>\n"
      ],
      "text/latex": [
       "A data.frame: 6 × 4\n",
       "\\begin{tabular}{r|llll}\n",
       "  & p & d & q & AIC\\\\\n",
       "  & <dbl> & <dbl> & <dbl> & <dbl>\\\\\n",
       "\\hline\n",
       "\t21 & 1 & 1 & 1 & -1445.136\\\\\n",
       "\t11 & 0 & 1 & 3 & -1445.184\\\\\n",
       "\t28 & 2 & 0 & 2 & -1445.205\\\\\n",
       "\t10 & 0 & 1 & 2 & -1445.553\\\\\n",
       "\t9 & 0 & 1 & 1 & -1446.502\\\\\n",
       "\t32 & 2 & 1 & 0 & -1446.670\\\\\n",
       "\\end{tabular}\n"
      ],
      "text/markdown": [
       "\n",
       "A data.frame: 6 × 4\n",
       "\n",
       "| <!--/--> | p &lt;dbl&gt; | d &lt;dbl&gt; | q &lt;dbl&gt; | AIC &lt;dbl&gt; |\n",
       "|---|---|---|---|---|\n",
       "| 21 | 1 | 1 | 1 | -1445.136 |\n",
       "| 11 | 0 | 1 | 3 | -1445.184 |\n",
       "| 28 | 2 | 0 | 2 | -1445.205 |\n",
       "| 10 | 0 | 1 | 2 | -1445.553 |\n",
       "| 9 | 0 | 1 | 1 | -1446.502 |\n",
       "| 32 | 2 | 1 | 0 | -1446.670 |\n",
       "\n"
      ],
      "text/plain": [
       "   p d q AIC      \n",
       "21 1 1 1 -1445.136\n",
       "11 0 1 3 -1445.184\n",
       "28 2 0 2 -1445.205\n",
       "10 0 1 2 -1445.553\n",
       "9  0 1 1 -1446.502\n",
       "32 2 1 0 -1446.670"
      ]
     },
     "metadata": {},
     "output_type": "display_data"
    },
    {
     "name": "stdout",
     "output_type": "stream",
     "text": [
      "[1] \"USD.GBP\"\n"
     ]
    }
   ],
   "source": [
    "## Order selection -- AIC\n",
    "\n",
    "test_modelA <- function(p,d,q){\n",
    " mod = arima(data[,3], order=c(p,d,q), method=\"ML\")\n",
    " current.aic = AIC(mod)\n",
    " df = data.frame(p,d,q,current.aic)\n",
    " names(df) <- c(\"p\",\"d\",\"q\",\"AIC\")\n",
    " print(paste(p,d,q,current.aic,sep=\" \"))\n",
    "    \n",
    " return(df)\n",
    " }\n",
    " \n",
    " orders = data.frame(Inf,Inf,Inf,Inf)\n",
    " names(orders) <- c(\"p\",\"d\",\"q\",\"AIC\")\n",
    " \n",
    " \n",
    " for (p in 0:5){\n",
    "   for (d in 0:1){\n",
    "     for (q in 0:5) {\n",
    "       possibleError <- tryCatch(\n",
    "         orders<-rbind(orders,test_modelA(p,d,q)),\n",
    "         error=function(e) e\n",
    "       )\n",
    "       if(inherits(possibleError, \"error\")) next\n",
    " \n",
    "     }\n",
    "   }\n",
    " }\n",
    " orders <- orders[order(-orders$AIC),]\n",
    " tail(orders)\n",
    "print(colnames(data)[3])"
   ]
  },
  {
   "cell_type": "code",
   "execution_count": 8,
   "metadata": {},
   "outputs": [
    {
     "name": "stdout",
     "output_type": "stream",
     "text": [
      "[1] \"0 0 0 -776.186440159815\"\n",
      "[1] \"0 0 1 -1077.36656608779\"\n",
      "[1] \"0 0 2 -1314.73906038303\"\n",
      "[1] \"0 0 3 -1412.49666355877\"\n",
      "[1] \"0 0 4 -1519.21158367723\"\n",
      "[1] \"0 0 5 -1550.97922267678\"\n",
      "[1] \"0 1 0 -1735.38204813289\"\n",
      "[1] \"0 1 1 -1749.48093888563\"\n",
      "[1] \"0 1 2 -1747.75821165781\"\n",
      "[1] \"0 1 3 -1746.75786813242\"\n",
      "[1] \"0 1 4 -1745.34259729591\"\n",
      "[1] \"0 1 5 -1743.93542349334\"\n",
      "[1] \"1 0 0 -1733.24462448565\"\n",
      "[1] \"1 0 1 -1747.69958949002\"\n",
      "[1] \"1 0 2 -1745.90989894083\"\n",
      "[1] \"1 0 3 -1749.40889296077\"\n",
      "[1] \"1 0 4 -1742.08024024104\"\n",
      "[1] \"1 0 5 -1740.96843345904\"\n",
      "[1] \"1 1 0 -1746.89346427009\"\n",
      "[1] \"1 1 1 -1747.66172552659\"\n",
      "[1] \"1 1 2 -1746.0595877755\"\n",
      "[1] \"1 1 3 -1748.93925770485\"\n",
      "[1] \"1 1 4 -1747.28500880066\"\n",
      "[1] \"1 1 5 -1745.85410459788\"\n"
     ]
    },
    {
     "name": "stderr",
     "output_type": "stream",
     "text": [
      "Warning message in log(s2):\n",
      "\"NaNs produced\""
     ]
    },
    {
     "name": "stdout",
     "output_type": "stream",
     "text": [
      "[1] \"2 0 1 -1745.73328691827\"\n"
     ]
    },
    {
     "name": "stderr",
     "output_type": "stream",
     "text": [
      "Warning message in stats::arima(x = x, order = order, seasonal = seasonal, xreg = xreg, :\n",
      "\"possible convergence problem: optim gave code = 1\""
     ]
    },
    {
     "name": "stdout",
     "output_type": "stream",
     "text": [
      "[1] \"2 0 2 -1745.89913677972\"\n",
      "[1] \"2 0 3 -1743.3887360083\"\n",
      "[1] \"2 0 4 -1742.32838987444\"\n",
      "[1] \"2 0 5 -1742.61567096958\"\n",
      "[1] \"2 1 0 -1748.58079054399\"\n",
      "[1] \"2 1 1 -1746.58386187862\"\n",
      "[1] \"2 1 2 -1744.67576248667\"\n",
      "[1] \"2 1 3 -1747.96161650338\"\n"
     ]
    },
    {
     "name": "stderr",
     "output_type": "stream",
     "text": [
      "Warning message in stats::arima(x = x, order = order, seasonal = seasonal, xreg = xreg, :\n",
      "\"possible convergence problem: optim gave code = 1\""
     ]
    },
    {
     "name": "stdout",
     "output_type": "stream",
     "text": [
      "[1] \"2 1 4 -1746.73269845991\"\n"
     ]
    },
    {
     "name": "stderr",
     "output_type": "stream",
     "text": [
      "Warning message in stats::arima(x = x, order = order, seasonal = seasonal, xreg = xreg, :\n",
      "\"possible convergence problem: optim gave code = 1\""
     ]
    },
    {
     "name": "stdout",
     "output_type": "stream",
     "text": [
      "[1] \"2 1 5 -1744.78171227688\"\n"
     ]
    },
    {
     "name": "stderr",
     "output_type": "stream",
     "text": [
      "Warning message in stats::arima(x = x, order = order, seasonal = seasonal, xreg = xreg, :\n",
      "\"possible convergence problem: optim gave code = 1\""
     ]
    },
    {
     "name": "stdout",
     "output_type": "stream",
     "text": [
      "[1] \"3 0 0 -1651.33990418417\"\n"
     ]
    },
    {
     "name": "stderr",
     "output_type": "stream",
     "text": [
      "Warning message in stats::arima(x = x, order = order, seasonal = seasonal, xreg = xreg, :\n",
      "\"possible convergence problem: optim gave code = 1\""
     ]
    },
    {
     "name": "stdout",
     "output_type": "stream",
     "text": [
      "[1] \"3 0 1 -1742.0823579662\"\n",
      "[1] \"3 0 2 -1748.00106774097\"\n",
      "[1] \"3 0 3 -1740.54508285114\"\n"
     ]
    },
    {
     "name": "stderr",
     "output_type": "stream",
     "text": [
      "Warning message in stats::arima(x = x, order = order, seasonal = seasonal, xreg = xreg, :\n",
      "\"possible convergence problem: optim gave code = 1\""
     ]
    },
    {
     "name": "stdout",
     "output_type": "stream",
     "text": [
      "[1] \"3 0 4 -1742.52389991277\"\n"
     ]
    },
    {
     "name": "stderr",
     "output_type": "stream",
     "text": [
      "Warning message in stats::arima(x = x, order = order, seasonal = seasonal, xreg = xreg, :\n",
      "\"possible convergence problem: optim gave code = 1\""
     ]
    },
    {
     "name": "stdout",
     "output_type": "stream",
     "text": [
      "[1] \"3 0 5 -1747.47801079069\"\n",
      "[1] \"3 1 0 -1746.58561998364\"\n",
      "[1] \"3 1 1 -1744.59960815475\"\n",
      "[1] \"3 1 2 -1742.67544983684\"\n"
     ]
    },
    {
     "name": "stderr",
     "output_type": "stream",
     "text": [
      "Warning message in stats::arima(x = x, order = order, seasonal = seasonal, xreg = xreg, :\n",
      "\"possible convergence problem: optim gave code = 1\""
     ]
    },
    {
     "name": "stdout",
     "output_type": "stream",
     "text": [
      "[1] \"3 1 3 -1747.14070134522\"\n",
      "[1] \"3 1 4 -1743.20503030348\"\n"
     ]
    },
    {
     "name": "stderr",
     "output_type": "stream",
     "text": [
      "Warning message in stats::arima(x = x, order = order, seasonal = seasonal, xreg = xreg, :\n",
      "\"possible convergence problem: optim gave code = 1\""
     ]
    },
    {
     "name": "stdout",
     "output_type": "stream",
     "text": [
      "[1] \"3 1 5 -1743.1719923114\"\n",
      "[1] \"4 0 0 -1744.61626076831\"\n",
      "[1] \"4 0 1 -1744.62947226692\"\n",
      "[1] \"4 0 2 -1751.55478587427\"\n",
      "[1] \"4 0 3 -1749.81431161019\"\n"
     ]
    },
    {
     "name": "stderr",
     "output_type": "stream",
     "text": [
      "Warning message in stats::arima(x = x, order = order, seasonal = seasonal, xreg = xreg, :\n",
      "\"possible convergence problem: optim gave code = 1\""
     ]
    },
    {
     "name": "stdout",
     "output_type": "stream",
     "text": [
      "[1] \"4 0 4 -1741.89787362796\"\n"
     ]
    },
    {
     "name": "stderr",
     "output_type": "stream",
     "text": [
      "Warning message in stats::arima(x = x, order = order, seasonal = seasonal, xreg = xreg, :\n",
      "\"possible convergence problem: optim gave code = 1\""
     ]
    },
    {
     "name": "stdout",
     "output_type": "stream",
     "text": [
      "[1] \"4 0 5 -1742.00746156697\"\n",
      "[1] \"4 1 0 -1744.84889406572\"\n",
      "[1] \"4 1 1 -1745.32079922821\"\n",
      "[1] \"4 1 2 -1743.41704256553\"\n",
      "[1] \"4 1 3 -1750.18248722683\"\n"
     ]
    },
    {
     "name": "stderr",
     "output_type": "stream",
     "text": [
      "Warning message in log(s2):\n",
      "\"NaNs produced\""
     ]
    },
    {
     "name": "stdout",
     "output_type": "stream",
     "text": [
      "[1] \"4 1 4 -1745.66287230022\"\n"
     ]
    },
    {
     "name": "stderr",
     "output_type": "stream",
     "text": [
      "Warning message in stats::arima(x = x, order = order, seasonal = seasonal, xreg = xreg, :\n",
      "\"possible convergence problem: optim gave code = 1\""
     ]
    },
    {
     "name": "stdout",
     "output_type": "stream",
     "text": [
      "[1] \"4 1 5 -1743.98214983119\"\n",
      "[1] \"5 0 0 -1742.95039192455\"\n",
      "[1] \"5 0 1 -1743.42318473484\"\n"
     ]
    },
    {
     "name": "stderr",
     "output_type": "stream",
     "text": [
      "Warning message in log(s2):\n",
      "\"NaNs produced\"Warning message in log(s2):\n",
      "\"NaNs produced\""
     ]
    },
    {
     "name": "stdout",
     "output_type": "stream",
     "text": [
      "[1] \"5 0 2 -1745.17484198521\"\n"
     ]
    },
    {
     "name": "stderr",
     "output_type": "stream",
     "text": [
      "Warning message in stats::arima(x = x, order = order, seasonal = seasonal, xreg = xreg, :\n",
      "\"possible convergence problem: optim gave code = 1\""
     ]
    },
    {
     "name": "stdout",
     "output_type": "stream",
     "text": [
      "[1] \"5 0 3 -1742.11048386138\"\n"
     ]
    },
    {
     "name": "stderr",
     "output_type": "stream",
     "text": [
      "Warning message in stats::arima(x = x, order = order, seasonal = seasonal, xreg = xreg, :\n",
      "\"possible convergence problem: optim gave code = 1\""
     ]
    },
    {
     "name": "stdout",
     "output_type": "stream",
     "text": [
      "[1] \"5 0 4 -1736.77052347462\"\n"
     ]
    },
    {
     "name": "stderr",
     "output_type": "stream",
     "text": [
      "Warning message in stats::arima(x = x, order = order, seasonal = seasonal, xreg = xreg, :\n",
      "\"possible convergence problem: optim gave code = 1\""
     ]
    },
    {
     "name": "stdout",
     "output_type": "stream",
     "text": [
      "[1] \"5 0 5 -1745.23910487189\"\n",
      "[1] \"5 1 0 -1742.89832659015\"\n",
      "[1] \"5 1 1 -1740.85020703726\"\n",
      "[1] \"5 1 2 -1742.88662449752\"\n"
     ]
    },
    {
     "name": "stderr",
     "output_type": "stream",
     "text": [
      "Warning message in stats::arima(x = x, order = order, seasonal = seasonal, xreg = xreg, :\n",
      "\"possible convergence problem: optim gave code = 1\""
     ]
    },
    {
     "name": "stdout",
     "output_type": "stream",
     "text": [
      "[1] \"5 1 3 -1743.48701051638\"\n"
     ]
    },
    {
     "name": "stderr",
     "output_type": "stream",
     "text": [
      "Warning message in log(s2):\n",
      "\"NaNs produced\"Warning message in log(s2):\n",
      "\"NaNs produced\""
     ]
    },
    {
     "name": "stdout",
     "output_type": "stream",
     "text": [
      "[1] \"5 1 4 -1748.94399911496\"\n",
      "[1] \"5 1 5 -1748.16253875314\"\n"
     ]
    },
    {
     "data": {
      "text/html": [
       "<table>\n",
       "<caption>A data.frame: 6 × 4</caption>\n",
       "<thead>\n",
       "\t<tr><th></th><th scope=col>p</th><th scope=col>d</th><th scope=col>q</th><th scope=col>AIC</th></tr>\n",
       "\t<tr><th></th><th scope=col>&lt;dbl&gt;</th><th scope=col>&lt;dbl&gt;</th><th scope=col>&lt;dbl&gt;</th><th scope=col>&lt;dbl&gt;</th></tr>\n",
       "</thead>\n",
       "<tbody>\n",
       "\t<tr><th scope=row>71</th><td>5</td><td>1</td><td>4</td><td>-1748.944</td></tr>\n",
       "\t<tr><th scope=row>17</th><td>1</td><td>0</td><td>3</td><td>-1749.409</td></tr>\n",
       "\t<tr><th scope=row>9</th><td>0</td><td>1</td><td>1</td><td>-1749.481</td></tr>\n",
       "\t<tr><th scope=row>52</th><td>4</td><td>0</td><td>3</td><td>-1749.814</td></tr>\n",
       "\t<tr><th scope=row>58</th><td>4</td><td>1</td><td>3</td><td>-1750.182</td></tr>\n",
       "\t<tr><th scope=row>51</th><td>4</td><td>0</td><td>2</td><td>-1751.555</td></tr>\n",
       "</tbody>\n",
       "</table>\n"
      ],
      "text/latex": [
       "A data.frame: 6 × 4\n",
       "\\begin{tabular}{r|llll}\n",
       "  & p & d & q & AIC\\\\\n",
       "  & <dbl> & <dbl> & <dbl> & <dbl>\\\\\n",
       "\\hline\n",
       "\t71 & 5 & 1 & 4 & -1748.944\\\\\n",
       "\t17 & 1 & 0 & 3 & -1749.409\\\\\n",
       "\t9 & 0 & 1 & 1 & -1749.481\\\\\n",
       "\t52 & 4 & 0 & 3 & -1749.814\\\\\n",
       "\t58 & 4 & 1 & 3 & -1750.182\\\\\n",
       "\t51 & 4 & 0 & 2 & -1751.555\\\\\n",
       "\\end{tabular}\n"
      ],
      "text/markdown": [
       "\n",
       "A data.frame: 6 × 4\n",
       "\n",
       "| <!--/--> | p &lt;dbl&gt; | d &lt;dbl&gt; | q &lt;dbl&gt; | AIC &lt;dbl&gt; |\n",
       "|---|---|---|---|---|\n",
       "| 71 | 5 | 1 | 4 | -1748.944 |\n",
       "| 17 | 1 | 0 | 3 | -1749.409 |\n",
       "| 9 | 0 | 1 | 1 | -1749.481 |\n",
       "| 52 | 4 | 0 | 3 | -1749.814 |\n",
       "| 58 | 4 | 1 | 3 | -1750.182 |\n",
       "| 51 | 4 | 0 | 2 | -1751.555 |\n",
       "\n"
      ],
      "text/plain": [
       "   p d q AIC      \n",
       "71 5 1 4 -1748.944\n",
       "17 1 0 3 -1749.409\n",
       "9  0 1 1 -1749.481\n",
       "52 4 0 3 -1749.814\n",
       "58 4 1 3 -1750.182\n",
       "51 4 0 2 -1751.555"
      ]
     },
     "metadata": {},
     "output_type": "display_data"
    },
    {
     "name": "stdout",
     "output_type": "stream",
     "text": [
      "[1] \"USD.AUD\"\n"
     ]
    }
   ],
   "source": [
    "## Order selection -- AIC\n",
    "\n",
    "test_modelA <- function(p,d,q){\n",
    " mod = arima(data[,4], order=c(p,d,q), method=\"ML\")\n",
    " current.aic = AIC(mod)\n",
    " df = data.frame(p,d,q,current.aic)\n",
    " names(df) <- c(\"p\",\"d\",\"q\",\"AIC\")\n",
    " print(paste(p,d,q,current.aic,sep=\" \"))\n",
    "    \n",
    " return(df)\n",
    " }\n",
    " \n",
    " orders = data.frame(Inf,Inf,Inf,Inf)\n",
    " names(orders) <- c(\"p\",\"d\",\"q\",\"AIC\")\n",
    " \n",
    " \n",
    " for (p in 0:5){\n",
    "   for (d in 0:1){\n",
    "     for (q in 0:5) {\n",
    "       possibleError <- tryCatch(\n",
    "         orders<-rbind(orders,test_modelA(p,d,q)),\n",
    "         error=function(e) e\n",
    "       )\n",
    "       if(inherits(possibleError, \"error\")) next\n",
    " \n",
    "     }\n",
    "   }\n",
    " }\n",
    " orders <- orders[order(-orders$AIC),]\n",
    " tail(orders)\n",
    "print(colnames(data)[4])"
   ]
  },
  {
   "cell_type": "code",
   "execution_count": 9,
   "metadata": {},
   "outputs": [
    {
     "name": "stdout",
     "output_type": "stream",
     "text": [
      "[1] \"0 0 0 -835.100712481775\"\n",
      "[1] \"0 0 1 -1121.34493561546\"\n",
      "[1] \"0 0 2 -1318.45442171017\"\n",
      "[1] \"0 0 3 -1438.98623890577\"\n",
      "[1] \"0 0 4 -1502.04777043548\"\n",
      "[1] \"0 0 5 -1539.88035096144\"\n",
      "[1] \"0 1 0 -1711.67777789182\"\n",
      "[1] \"0 1 1 -1714.68023704525\"\n",
      "[1] \"0 1 2 -1712.68026835221\"\n",
      "[1] \"0 1 3 -1710.74141082174\"\n",
      "[1] \"0 1 4 -1708.74146668238\"\n",
      "[1] \"0 1 5 -1706.74320469619\"\n",
      "[1] \"1 0 0 -1710.03918795973\"\n",
      "[1] \"1 0 1 -1713.34776829947\"\n",
      "[1] \"1 0 2 -1711.35543420473\"\n",
      "[1] \"1 0 3 -1704.83727020721\"\n",
      "[1] \"1 0 4 -1696.98682944133\"\n",
      "[1] \"1 0 5 -1695.22299576051\"\n",
      "[1] \"1 1 0 -1714.56483536174\"\n",
      "[1] \"1 1 1 -1712.67705042529\"\n",
      "[1] \"1 1 2 -1710.6803692635\"\n",
      "[1] \"1 1 3 -1708.74066001924\"\n",
      "[1] \"1 1 4 -1706.74149361556\"\n",
      "[1] \"1 1 5 -1704.74219833511\"\n"
     ]
    },
    {
     "name": "stderr",
     "output_type": "stream",
     "text": [
      "Warning message in log(s2):\n",
      "\"NaNs produced\"Warning message in log(s2):\n",
      "\"NaNs produced\""
     ]
    },
    {
     "name": "stdout",
     "output_type": "stream",
     "text": [
      "[1] \"2 0 0 -1713.28690338592\"\n",
      "[1] \"2 0 1 -1711.35370211817\"\n",
      "[1] \"2 0 2 -1715.0456486771\"\n",
      "[1] \"2 0 3 -1713.39422578541\"\n",
      "[1] \"2 0 4 -1711.5835102947\"\n",
      "[1] \"2 0 5 -1701.05403315226\"\n",
      "[1] \"2 1 0 -1712.70224987256\"\n",
      "[1] \"2 1 1 -1710.69247101884\"\n",
      "[1] \"2 1 2 -1708.74310843232\"\n",
      "[1] \"2 1 3 -1706.74066465139\"\n",
      "[1] \"2 1 4 -1704.74151379266\"\n",
      "[1] \"2 1 5 -1702.74224149543\"\n",
      "[1] \"3 0 0 -1711.36538985442\"\n",
      "[1] \"3 0 1 -1714.3781105992\"\n",
      "[1] \"3 0 2 -1713.64518210451\"\n"
     ]
    },
    {
     "name": "stderr",
     "output_type": "stream",
     "text": [
      "Warning message in stats::arima(x = x, order = order, seasonal = seasonal, xreg = xreg, :\n",
      "\"possible convergence problem: optim gave code = 1\""
     ]
    },
    {
     "name": "stdout",
     "output_type": "stream",
     "text": [
      "[1] \"3 0 3 -1708.7627192545\"\n"
     ]
    },
    {
     "name": "stderr",
     "output_type": "stream",
     "text": [
      "Warning message in stats::arima(x = x, order = order, seasonal = seasonal, xreg = xreg, :\n",
      "\"possible convergence problem: optim gave code = 1\""
     ]
    },
    {
     "name": "stdout",
     "output_type": "stream",
     "text": [
      "[1] \"3 0 4 -1709.92181508448\"\n"
     ]
    },
    {
     "name": "stderr",
     "output_type": "stream",
     "text": [
      "Warning message in stats::arima(x = x, order = order, seasonal = seasonal, xreg = xreg, :\n",
      "\"possible convergence problem: optim gave code = 1\""
     ]
    },
    {
     "name": "stdout",
     "output_type": "stream",
     "text": [
      "[1] \"3 0 5 -1705.79905136643\"\n",
      "[1] \"3 1 0 -1710.73223982841\"\n",
      "[1] \"3 1 1 -1708.73467142881\"\n",
      "[1] \"3 1 2 -1706.73429262947\"\n",
      "[1] \"3 1 3 -1704.74259581007\"\n",
      "[1] \"3 1 4 -1702.74080955939\"\n",
      "[1] \"3 1 5 -1700.7406928594\"\n",
      "[1] \"4 0 0 -1709.37081641311\"\n",
      "[1] \"4 0 1 -1713.09078011263\"\n",
      "[1] \"4 0 2 -1705.36340899276\"\n"
     ]
    },
    {
     "name": "stderr",
     "output_type": "stream",
     "text": [
      "Warning message in stats::arima(x = x, order = order, seasonal = seasonal, xreg = xreg, :\n",
      "\"possible convergence problem: optim gave code = 1\""
     ]
    },
    {
     "name": "stdout",
     "output_type": "stream",
     "text": [
      "[1] \"4 0 3 -1711.55089987359\"\n"
     ]
    },
    {
     "name": "stderr",
     "output_type": "stream",
     "text": [
      "Warning message in log(s2):\n",
      "\"NaNs produced\"Warning message in log(s2):\n",
      "\"NaNs produced\"Warning message in log(s2):\n",
      "\"NaNs produced\"Warning message in log(s2):\n",
      "\"NaNs produced\"Warning message in log(s2):\n",
      "\"NaNs produced\"Warning message in stats::arima(x = x, order = order, seasonal = seasonal, xreg = xreg, :\n",
      "\"possible convergence problem: optim gave code = 1\""
     ]
    },
    {
     "name": "stdout",
     "output_type": "stream",
     "text": [
      "[1] \"4 0 4 -1709.5826469392\"\n"
     ]
    },
    {
     "name": "stderr",
     "output_type": "stream",
     "text": [
      "Warning message in stats::arima(x = x, order = order, seasonal = seasonal, xreg = xreg, :\n",
      "\"possible convergence problem: optim gave code = 1\""
     ]
    },
    {
     "name": "stdout",
     "output_type": "stream",
     "text": [
      "[1] \"4 0 5 -1705.13609747765\"\n",
      "[1] \"4 1 0 -1708.74162436597\"\n",
      "[1] \"4 1 1 -1706.74302532579\"\n",
      "[1] \"4 1 2 -1704.74278161482\"\n",
      "[1] \"4 1 3 -1702.74291339861\"\n",
      "[1] \"4 1 4 -1700.741474583\"\n"
     ]
    },
    {
     "name": "stderr",
     "output_type": "stream",
     "text": [
      "Warning message in stats::arima(x = x, order = order, seasonal = seasonal, xreg = xreg, :\n",
      "\"possible convergence problem: optim gave code = 1\""
     ]
    },
    {
     "name": "stdout",
     "output_type": "stream",
     "text": [
      "[1] \"4 1 5 -1705.88783864769\"\n",
      "[1] \"5 0 0 -1707.40393019515\"\n",
      "[1] \"5 0 1 -1711.35827065122\"\n",
      "[1] \"5 0 2 -1711.27580960181\"\n",
      "[1] \"5 0 3 -1711.841942915\"\n",
      "[1] \"5 0 4 -1709.60313781221\"\n",
      "[1] \"5 0 5 -1708.67380448224\"\n",
      "[1] \"5 1 0 -1706.75798709872\"\n",
      "[1] \"5 1 1 -1704.7520883296\"\n",
      "[1] \"5 1 2 -1702.75300799946\"\n",
      "[1] \"5 1 3 -1718.09804300049\"\n",
      "[1] \"5 1 4 -1710.0509400387\"\n",
      "[1] \"5 1 5 -1718.63142133643\"\n"
     ]
    },
    {
     "data": {
      "text/html": [
       "<table>\n",
       "<caption>A data.frame: 6 × 4</caption>\n",
       "<thead>\n",
       "\t<tr><th></th><th scope=col>p</th><th scope=col>d</th><th scope=col>q</th><th scope=col>AIC</th></tr>\n",
       "\t<tr><th></th><th scope=col>&lt;dbl&gt;</th><th scope=col>&lt;dbl&gt;</th><th scope=col>&lt;dbl&gt;</th><th scope=col>&lt;dbl&gt;</th></tr>\n",
       "</thead>\n",
       "<tbody>\n",
       "\t<tr><th scope=row>39</th><td>3</td><td>0</td><td>1</td><td>-1714.378</td></tr>\n",
       "\t<tr><th scope=row>20</th><td>1</td><td>1</td><td>0</td><td>-1714.565</td></tr>\n",
       "\t<tr><th scope=row>9</th><td>0</td><td>1</td><td>1</td><td>-1714.680</td></tr>\n",
       "\t<tr><th scope=row>28</th><td>2</td><td>0</td><td>2</td><td>-1715.046</td></tr>\n",
       "\t<tr><th scope=row>71</th><td>5</td><td>1</td><td>3</td><td>-1718.098</td></tr>\n",
       "\t<tr><th scope=row>73</th><td>5</td><td>1</td><td>5</td><td>-1718.631</td></tr>\n",
       "</tbody>\n",
       "</table>\n"
      ],
      "text/latex": [
       "A data.frame: 6 × 4\n",
       "\\begin{tabular}{r|llll}\n",
       "  & p & d & q & AIC\\\\\n",
       "  & <dbl> & <dbl> & <dbl> & <dbl>\\\\\n",
       "\\hline\n",
       "\t39 & 3 & 0 & 1 & -1714.378\\\\\n",
       "\t20 & 1 & 1 & 0 & -1714.565\\\\\n",
       "\t9 & 0 & 1 & 1 & -1714.680\\\\\n",
       "\t28 & 2 & 0 & 2 & -1715.046\\\\\n",
       "\t71 & 5 & 1 & 3 & -1718.098\\\\\n",
       "\t73 & 5 & 1 & 5 & -1718.631\\\\\n",
       "\\end{tabular}\n"
      ],
      "text/markdown": [
       "\n",
       "A data.frame: 6 × 4\n",
       "\n",
       "| <!--/--> | p &lt;dbl&gt; | d &lt;dbl&gt; | q &lt;dbl&gt; | AIC &lt;dbl&gt; |\n",
       "|---|---|---|---|---|\n",
       "| 39 | 3 | 0 | 1 | -1714.378 |\n",
       "| 20 | 1 | 1 | 0 | -1714.565 |\n",
       "| 9 | 0 | 1 | 1 | -1714.680 |\n",
       "| 28 | 2 | 0 | 2 | -1715.046 |\n",
       "| 71 | 5 | 1 | 3 | -1718.098 |\n",
       "| 73 | 5 | 1 | 5 | -1718.631 |\n",
       "\n"
      ],
      "text/plain": [
       "   p d q AIC      \n",
       "39 3 0 1 -1714.378\n",
       "20 1 1 0 -1714.565\n",
       "9  0 1 1 -1714.680\n",
       "28 2 0 2 -1715.046\n",
       "71 5 1 3 -1718.098\n",
       "73 5 1 5 -1718.631"
      ]
     },
     "metadata": {},
     "output_type": "display_data"
    },
    {
     "name": "stdout",
     "output_type": "stream",
     "text": [
      "[1] \"USD.NZ\"\n"
     ]
    }
   ],
   "source": [
    "## Order selection -- AIC\n",
    "\n",
    "test_modelA <- function(p,d,q){\n",
    " mod = arima(data[,5], order=c(p,d,q), method=\"ML\")\n",
    " current.aic = AIC(mod)\n",
    " df = data.frame(p,d,q,current.aic)\n",
    " names(df) <- c(\"p\",\"d\",\"q\",\"AIC\")\n",
    " print(paste(p,d,q,current.aic,sep=\" \"))\n",
    "    \n",
    " return(df)\n",
    " }\n",
    " \n",
    " orders = data.frame(Inf,Inf,Inf,Inf)\n",
    " names(orders) <- c(\"p\",\"d\",\"q\",\"AIC\")\n",
    " \n",
    " \n",
    " for (p in 0:5){\n",
    "   for (d in 0:1){\n",
    "     for (q in 0:5) {\n",
    "       possibleError <- tryCatch(\n",
    "         orders<-rbind(orders,test_modelA(p,d,q)),\n",
    "         error=function(e) e\n",
    "       )\n",
    "       if(inherits(possibleError, \"error\")) next\n",
    " \n",
    "     }\n",
    "   }\n",
    " }\n",
    " orders <- orders[order(-orders$AIC),]\n",
    " tail(orders)\n",
    "print(colnames(data)[5])"
   ]
  },
  {
   "cell_type": "code",
   "execution_count": 10,
   "metadata": {},
   "outputs": [
    {
     "data": {
      "text/plain": [
       "\n",
       "Call:\n",
       "arima(x = data[, 2], order = c(2, 1, 3), method = \"ML\")\n",
       "\n",
       "Coefficients:\n",
       "          ar1      ar2     ma1     ma2     ma3\n",
       "      -0.4442  -0.8627  0.6287  0.9667  0.0530\n",
       "s.e.   0.0848   0.0675  0.1077  0.0714  0.0753\n",
       "\n",
       "sigma^2 estimated as 0.0001119:  log likelihood = 804.04,  aic = -1598.07"
      ]
     },
     "metadata": {},
     "output_type": "display_data"
    },
    {
     "data": {
      "text/plain": [
       "\n",
       "Call:\n",
       "arima(x = data[, 3], order = c(1, 1, 1), method = \"ML\")\n",
       "\n",
       "Coefficients:\n",
       "          ar1     ma1\n",
       "      -0.1384  0.3844\n",
       "s.e.   0.1723  0.1553\n",
       "\n",
       "sigma^2 estimated as 0.0002066:  log likelihood = 725.57,  aic = -1447.14"
      ]
     },
     "metadata": {},
     "output_type": "display_data"
    },
    {
     "name": "stderr",
     "output_type": "stream",
     "text": [
      "Warning message in sqrt(diag(x$var.coef)):\n",
      "\"NaNs produced\""
     ]
    },
    {
     "data": {
      "text/plain": [
       "\n",
       "Call:\n",
       "arima(x = data[, 4], order = c(1, 0, 3), method = \"ML\")\n",
       "\n",
       "Coefficients:\n",
       "      ar1     ma1      ma2      ma3  intercept\n",
       "        1  0.2516  -0.0467  -0.0318     0.7682\n",
       "s.e.  NaN  0.0630   0.0621   0.0556     1.2314\n",
       "\n",
       "sigma^2 estimated as 6.32e-05:  log likelihood = 880.7,  aic = -1751.41"
      ]
     },
     "metadata": {},
     "output_type": "display_data"
    },
    {
     "data": {
      "text/plain": [
       "\n",
       "Call:\n",
       "arima(x = data[, 5], order = c(2, 0, 2), method = \"ML\")\n",
       "\n",
       "Coefficients:\n",
       "          ar1     ar2     ma1     ma2  intercept\n",
       "      -0.0057  0.9876  1.1757  0.1889     0.7259\n",
       "s.e.   0.0117  0.0113  0.0653  0.0646     0.0504\n",
       "\n",
       "sigma^2 estimated as 7.113e-05:  log likelihood = 863.52,  aic = -1717.05"
      ]
     },
     "metadata": {},
     "output_type": "display_data"
    }
   ],
   "source": [
    "mod.EUR = arima(data[,2], order = c(2,1,3), method = \"ML\") \n",
    "mod.GBP = arima(data[,3], order = c(1,1,1), method = \"ML\") \n",
    "mod.AUD = arima(data[,4], order = c(1,0,3), method = \"ML\") \n",
    "mod.NZD = arima(data[,5], order = c(2,0,2), method = \"ML\") \n",
    "\n",
    "mod.EUR \n",
    "mod.GBP \n",
    "mod.AUD \n",
    "mod.NZD "
   ]
  },
  {
   "cell_type": "code",
   "execution_count": 11,
   "metadata": {},
   "outputs": [
    {
     "data": {
      "text/html": [
       "258"
      ],
      "text/latex": [
       "258"
      ],
      "text/markdown": [
       "258"
      ],
      "text/plain": [
       "[1] 258"
      ]
     },
     "metadata": {},
     "output_type": "display_data"
    }
   ],
   "source": [
    "nrow(data)"
   ]
  },
  {
   "cell_type": "code",
   "execution_count": 12,
   "metadata": {},
   "outputs": [
    {
     "data": {
      "image/png": "[encoded data removed]",
      "text/plain": [
       "Plot with title \"EUR\""
      ]
     },
     "metadata": {},
     "output_type": "display_data"
    },
    {
     "data": {
      "image/png": "[encoded data removed]",
      "text/plain": [
       "Plot with title \"GBP\""
      ]
     },
     "metadata": {},
     "output_type": "display_data"
    },
    {
     "data": {
      "image/png": "[encoded data removed]",
      "text/plain": [
       "Plot with title \"AUD\""
      ]
     },
     "metadata": {},
     "output_type": "display_data"
    },
    {
     "data": {
      "image/png": "[encoded data removed]",
      "text/plain": [
       "Plot with title \"NZD\""
      ]
     },
     "metadata": {},
     "output_type": "display_data"
    }
   ],
   "source": [
    "mod.EUR.pred = predict(mod.EUR,n.ahead=8) \n",
    "\n",
    "ubound = mod.EUR.pred$pred+1.96*mod.EUR.pred$se \n",
    "lbound = mod.EUR.pred$pred-1.96*mod.EUR.pred$se \n",
    "\n",
    "ymin = min(lbound) \n",
    "ymax = max(ubound) \n",
    "\n",
    "par(mfrow=c(2,2))\n",
    "\n",
    "\n",
    "par(mfrow=c(2,2))\n",
    "plot(1:8,test[,2], type=\"l\", ylim=c(ymin,ymax), xlab=\"\", ylab=\"\", main=\"EUR\") \n",
    "points(1:8,mod.EUR.pred$pred,col=\"red\") \n",
    "lines(1:8, ubound,lty=3,lwd= 2, col=\"blue\")\n",
    "lines(1:8, lbound,lty=3,lwd= 2, col=\"blue\")\n",
    "\n",
    "\n",
    "#########################################GBP########################################\n",
    "\n",
    "mod.GBP.pred = predict(mod.GBP,n.ahead=8) \n",
    "\n",
    "ubound = mod.GBP.pred$pred+1.96*mod.GBP.pred$se \n",
    "lbound = mod.GBP.pred$pred-1.96*mod.GBP.pred$se \n",
    "\n",
    "ymin = min(lbound) \n",
    "ymax = max(ubound) \n",
    "\n",
    "par(mfrow=c(2,2))\n",
    "\n",
    "\n",
    "par(mfrow=c(2,2))\n",
    "plot(1:8,test[,3], type=\"l\", ylim=c(ymin,ymax), xlab=\"\", ylab=\"\", main=\"GBP\") \n",
    "points(1:8,mod.GBP.pred$pred,col=\"red\") \n",
    "lines(1:8, ubound,lty=3,lwd= 2, col=\"blue\")\n",
    "lines(1:8, lbound,lty=3,lwd= 2, col=\"blue\")\n",
    "\n",
    "\n",
    "\n",
    "#####################################AUD#############################################\n",
    "\n",
    "\n",
    "mod.AUD.pred = predict(mod.AUD,n.ahead=8) \n",
    "\n",
    "ubound = mod.AUD.pred$pred+1.96*mod.AUD.pred$se \n",
    "lbound = mod.AUD.pred$pred-1.96*mod.AUD.pred$se \n",
    "\n",
    "ymin = min(lbound) \n",
    "ymax = max(ubound) \n",
    "\n",
    "par(mfrow=c(2,2))\n",
    "\n",
    "\n",
    "par(mfrow=c(2,2))\n",
    "plot(1:8, test[,4], type=\"l\", ylim=c(ymin,ymax), xlab=\"\", ylab=\"\", main=\"AUD\") \n",
    "points(1:8,mod.AUD.pred$pred,col=\"red\") \n",
    "lines(1:8, ubound,lty=3,lwd= 2, col=\"blue\")\n",
    "lines(1:8, lbound,lty=3,lwd= 2, col=\"blue\")\n",
    "\n",
    "\n",
    "##############################################NZD##################################################\n",
    "\n",
    "\n",
    "mod.NZD.pred = predict(mod.NZD,n.ahead=8) \n",
    "\n",
    "ubound = mod.NZD.pred$pred+1.96*mod.NZD.pred$se \n",
    "lbound = mod.NZD.pred$pred-1.96*mod.NZD.pred$se \n",
    "\n",
    "ymin = min(lbound) \n",
    "ymax = max(ubound) \n",
    "\n",
    "par(mfrow=c(2,2))\n",
    "\n",
    "\n",
    "par(mfrow=c(2,2))\n",
    "plot(1:8,test[,5], type=\"l\", ylim=c(ymin,ymax), xlab=\"\", ylab=\"\", main=\"NZD\") \n",
    "points(1:8,mod.NZD.pred$pred,col=\"red\") \n",
    "lines(1:8, ubound,lty=3,lwd= 2, col=\"blue\")\n",
    "lines(1:8, lbound,lty=3,lwd= 2, col=\"blue\")"
   ]
  },
  {
   "cell_type": "code",
   "execution_count": 15,
   "metadata": {},
   "outputs": [
    {
     "data": {
      "text/html": [
       "<table>\n",
       "<caption>A matrix: 5 × 5 of type dbl</caption>\n",
       "<thead>\n",
       "\t<tr><th scope=col>DATE</th><th scope=col>USD.EU</th><th scope=col>USD.GBP</th><th scope=col>USD.AUD</th><th scope=col>USD.NZ</th></tr>\n",
       "</thead>\n",
       "<tbody>\n",
       "\t<tr><td>177</td><td>1.13110</td><td>1.271080</td><td>0.696960</td><td>0.661580</td></tr>\n",
       "\t<tr><td>182</td><td>1.12274</td><td>1.260380</td><td>0.687680</td><td>0.652480</td></tr>\n",
       "\t<tr><td>187</td><td>1.13562</td><td>1.270980</td><td>0.695320</td><td>0.662460</td></tr>\n",
       "\t<tr><td>215</td><td>1.13258</td><td>1.263780</td><td>0.699900</td><td>0.669360</td></tr>\n",
       "\t<tr><td>197</td><td>1.12235</td><td>1.249475</td><td>0.695675</td><td>0.662525</td></tr>\n",
       "</tbody>\n",
       "</table>\n"
      ],
      "text/latex": [
       "A matrix: 5 × 5 of type dbl\n",
       "\\begin{tabular}{lllll}\n",
       " DATE & USD.EU & USD.GBP & USD.AUD & USD.NZ\\\\\n",
       "\\hline\n",
       "\t 177 & 1.13110 & 1.271080 & 0.696960 & 0.661580\\\\\n",
       "\t 182 & 1.12274 & 1.260380 & 0.687680 & 0.652480\\\\\n",
       "\t 187 & 1.13562 & 1.270980 & 0.695320 & 0.662460\\\\\n",
       "\t 215 & 1.13258 & 1.263780 & 0.699900 & 0.669360\\\\\n",
       "\t 197 & 1.12235 & 1.249475 & 0.695675 & 0.662525\\\\\n",
       "\\end{tabular}\n"
      ],
      "text/markdown": [
       "\n",
       "A matrix: 5 × 5 of type dbl\n",
       "\n",
       "| DATE | USD.EU | USD.GBP | USD.AUD | USD.NZ |\n",
       "|---|---|---|---|---|\n",
       "| 177 | 1.13110 | 1.271080 | 0.696960 | 0.661580 |\n",
       "| 182 | 1.12274 | 1.260380 | 0.687680 | 0.652480 |\n",
       "| 187 | 1.13562 | 1.270980 | 0.695320 | 0.662460 |\n",
       "| 215 | 1.13258 | 1.263780 | 0.699900 | 0.669360 |\n",
       "| 197 | 1.12235 | 1.249475 | 0.695675 | 0.662525 |\n",
       "\n"
      ],
      "text/plain": [
       "     DATE USD.EU  USD.GBP  USD.AUD  USD.NZ  \n",
       "[1,] 177  1.13110 1.271080 0.696960 0.661580\n",
       "[2,] 182  1.12274 1.260380 0.687680 0.652480\n",
       "[3,] 187  1.13562 1.270980 0.695320 0.662460\n",
       "[4,] 215  1.13258 1.263780 0.699900 0.669360\n",
       "[5,] 197  1.12235 1.249475 0.695675 0.662525"
      ]
     },
     "metadata": {},
     "output_type": "display_data"
    }
   ],
   "source": [
    "head(test, n=5)"
   ]
  },
  {
   "cell_type": "code",
   "execution_count": 16,
   "metadata": {},
   "outputs": [
    {
     "data": {
      "text/html": [
       "0.578939671665407"
      ],
      "text/latex": [
       "0.578939671665407"
      ],
      "text/markdown": [
       "0.578939671665407"
      ],
      "text/plain": [
       "[1] 0.5789397"
      ]
     },
     "metadata": {},
     "output_type": "display_data"
    },
    {
     "data": {
      "text/html": [
       "0.995483842353229"
      ],
      "text/latex": [
       "0.995483842353229"
      ],
      "text/markdown": [
       "0.995483842353229"
      ],
      "text/plain": [
       "[1] 0.9954838"
      ]
     },
     "metadata": {},
     "output_type": "display_data"
    },
    {
     "data": {
      "text/html": [
       "0.559831107707085"
      ],
      "text/latex": [
       "0.559831107707085"
      ],
      "text/markdown": [
       "0.559831107707085"
      ],
      "text/plain": [
       "[1] 0.5598311"
      ]
     },
     "metadata": {},
     "output_type": "display_data"
    },
    {
     "data": {
      "text/html": [
       "0.884671033615939"
      ],
      "text/latex": [
       "0.884671033615939"
      ],
      "text/markdown": [
       "0.884671033615939"
      ],
      "text/plain": [
       "[1] 0.884671"
      ]
     },
     "metadata": {},
     "output_type": "display_data"
    }
   ],
   "source": [
    "\n",
    "\n",
    "obs1=test[,2]\n",
    "MAPE1=mean(abs(mod.EUR.pred$pred-obs1)/obs1)*100\n",
    "MAPE1\n",
    "\n",
    "\n",
    "\n",
    "obs2=test[,3]\n",
    "MAPE2=mean(abs(mod.GBP.pred$pred-obs2)/obs2)*100\n",
    "MAPE2\n",
    "\n",
    "\n",
    "obs3=test[,4]\n",
    "MAPE3=mean(abs(mod.AUD.pred$pred-obs3)/obs3)*100\n",
    "MAPE3\n",
    "\n",
    "\n",
    "obs4=test[,5]\n",
    "MAPE4=mean(abs(mod.NZD.pred$pred-obs4)/obs4)*100 \n",
    "MAPE4\n",
    "\n",
    "\n"
   ]
  },
  {
   "cell_type": "code",
   "execution_count": 17,
   "metadata": {},
   "outputs": [
    {
     "data": {
      "text/html": [
       "<table>\n",
       "<caption>A matrix: 5 × 5 of type dbl</caption>\n",
       "<thead>\n",
       "\t<tr><th scope=col>DATE</th><th scope=col>USD.EU</th><th scope=col>USD.GBP</th><th scope=col>USD.AUD</th><th scope=col>USD.NZ</th></tr>\n",
       "</thead>\n",
       "<tbody>\n",
       "\t<tr><td>206</td><td>1.36536</td><td>1.709020</td><td>0.943540</td><td>0.87654</td></tr>\n",
       "\t<tr><td>222</td><td>1.36145</td><td>1.713425</td><td>0.938125</td><td>0.87810</td></tr>\n",
       "\t<tr><td>202</td><td>1.35842</td><td>1.711780</td><td>0.937800</td><td>0.87798</td></tr>\n",
       "\t<tr><td>209</td><td>1.35002</td><td>1.706680</td><td>0.939460</td><td>0.86816</td></tr>\n",
       "\t<tr><td>216</td><td>1.34254</td><td>1.695720</td><td>0.938520</td><td>0.85302</td></tr>\n",
       "</tbody>\n",
       "</table>\n"
      ],
      "text/latex": [
       "A matrix: 5 × 5 of type dbl\n",
       "\\begin{tabular}{lllll}\n",
       " DATE & USD.EU & USD.GBP & USD.AUD & USD.NZ\\\\\n",
       "\\hline\n",
       "\t 206 & 1.36536 & 1.709020 & 0.943540 & 0.87654\\\\\n",
       "\t 222 & 1.36145 & 1.713425 & 0.938125 & 0.87810\\\\\n",
       "\t 202 & 1.35842 & 1.711780 & 0.937800 & 0.87798\\\\\n",
       "\t 209 & 1.35002 & 1.706680 & 0.939460 & 0.86816\\\\\n",
       "\t 216 & 1.34254 & 1.695720 & 0.938520 & 0.85302\\\\\n",
       "\\end{tabular}\n"
      ],
      "text/markdown": [
       "\n",
       "A matrix: 5 × 5 of type dbl\n",
       "\n",
       "| DATE | USD.EU | USD.GBP | USD.AUD | USD.NZ |\n",
       "|---|---|---|---|---|\n",
       "| 206 | 1.36536 | 1.709020 | 0.943540 | 0.87654 |\n",
       "| 222 | 1.36145 | 1.713425 | 0.938125 | 0.87810 |\n",
       "| 202 | 1.35842 | 1.711780 | 0.937800 | 0.87798 |\n",
       "| 209 | 1.35002 | 1.706680 | 0.939460 | 0.86816 |\n",
       "| 216 | 1.34254 | 1.695720 | 0.938520 | 0.85302 |\n",
       "\n"
      ],
      "text/plain": [
       "     DATE USD.EU  USD.GBP  USD.AUD  USD.NZ \n",
       "[1,] 206  1.36536 1.709020 0.943540 0.87654\n",
       "[2,] 222  1.36145 1.713425 0.938125 0.87810\n",
       "[3,] 202  1.35842 1.711780 0.937800 0.87798\n",
       "[4,] 209  1.35002 1.706680 0.939460 0.86816\n",
       "[5,] 216  1.34254 1.695720 0.938520 0.85302"
      ]
     },
     "metadata": {},
     "output_type": "display_data"
    }
   ],
   "source": [
    "head(data, n=5)"
   ]
  },
  {
   "cell_type": "code",
   "execution_count": 18,
   "metadata": {},
   "outputs": [
    {
     "data": {
      "text/html": [
       "<strong>AIC(n):</strong> 2"
      ],
      "text/latex": [
       "\\textbf{AIC(n):} 2"
      ],
      "text/markdown": [
       "**AIC(n):** 2"
      ],
      "text/plain": [
       "AIC(n) \n",
       "     2 "
      ]
     },
     "metadata": {},
     "output_type": "display_data"
    }
   ],
   "source": [
    "## Fit VAR model: capture relationship between change in interest rate vs change in unemplyment\n",
    "library(vars)\n",
    "data.ts=ts.union(data[,-1])\n",
    "mod_aic_1 = VAR(data.ts,lag.max=20,ic=\"AIC\", type=\"none\")\n",
    "\n",
    "pord_1 = mod_aic_1$p; \n",
    "\n",
    "pord_1\n",
    "\n"
   ]
  },
  {
   "cell_type": "code",
   "execution_count": 25,
   "metadata": {},
   "outputs": [
    {
     "data": {
      "text/plain": [
       "\n",
       "VAR Estimation Results:\n",
       "========================= \n",
       "Endogenous variables: USD.EU, USD.GBP, USD.AUD, USD.NZ \n",
       "Deterministic variables: none \n",
       "Sample size: 256 \n",
       "Log Likelihood: 3455.605 \n",
       "Roots of the characteristic polynomial:\n",
       "0.9992 0.9893 0.9397 0.8958  0.36 0.2296 0.1495 0.1158\n",
       "Call:\n",
       "VAR(y = data.ts, p = 2, type = \"none\")\n",
       "\n",
       "\n",
       "Estimation results for equation USD.EU: \n",
       "======================================= \n",
       "USD.EU = USD.EU.l1 + USD.GBP.l1 + USD.AUD.l1 + USD.NZ.l1 + USD.EU.l2 + USD.GBP.l2 + USD.AUD.l2 + USD.NZ.l2 \n",
       "\n",
       "           Estimate Std. Error t value Pr(>|t|)    \n",
       "USD.EU.l1   1.18754    0.08079  14.699   <2e-16 ***\n",
       "USD.GBP.l1 -0.06792    0.05568  -1.220   0.2237    \n",
       "USD.AUD.l1  0.25947    0.12386   2.095   0.0372 *  \n",
       "USD.NZ.l1  -0.21002    0.11925  -1.761   0.0794 .  \n",
       "USD.EU.l2  -0.19099    0.08096  -2.359   0.0191 *  \n",
       "USD.GBP.l2  0.06179    0.05538   1.116   0.2656    \n",
       "USD.AUD.l2 -0.20686    0.12279  -1.685   0.0933 .  \n",
       "USD.NZ.l2   0.16977    0.12229   1.388   0.1663    \n",
       "---\n",
       "Signif. codes:  0 '***' 0.001 '**' 0.01 '*' 0.05 '.' 0.1 ' ' 1\n",
       "\n",
       "\n",
       "Residual standard error: 0.01088 on 248 degrees of freedom\n",
       "Multiple R-Squared: 0.9999,\tAdjusted R-squared: 0.9999 \n",
       "F-statistic: 3.561e+05 on 8 and 248 DF,  p-value: < 2.2e-16 \n",
       "\n",
       "\n",
       "Estimation results for equation USD.GBP: \n",
       "======================================== \n",
       "USD.GBP = USD.EU.l1 + USD.GBP.l1 + USD.AUD.l1 + USD.NZ.l1 + USD.EU.l2 + USD.GBP.l2 + USD.AUD.l2 + USD.NZ.l2 \n",
       "\n",
       "            Estimate Std. Error t value Pr(>|t|)    \n",
       "USD.EU.l1   0.073847   0.107728   0.685   0.4937    \n",
       "USD.GBP.l1  1.138782   0.074249  15.337   <2e-16 ***\n",
       "USD.AUD.l1  0.090567   0.165156   0.548   0.5839    \n",
       "USD.NZ.l1  -0.039837   0.159013  -0.251   0.8024    \n",
       "USD.EU.l2  -0.078441   0.107957  -0.727   0.4682    \n",
       "USD.GBP.l2 -0.155532   0.073845  -2.106   0.0362 *  \n",
       "USD.AUD.l2 -0.005942   0.163729  -0.036   0.9711    \n",
       "USD.NZ.l2  -0.012883   0.163058  -0.079   0.9371    \n",
       "---\n",
       "Signif. codes:  0 '***' 0.001 '**' 0.01 '*' 0.05 '.' 0.1 ' ' 1\n",
       "\n",
       "\n",
       "Residual standard error: 0.01451 on 248 degrees of freedom\n",
       "Multiple R-Squared: 0.9999,\tAdjusted R-squared: 0.9999 \n",
       "F-statistic: 2.975e+05 on 8 and 248 DF,  p-value: < 2.2e-16 \n",
       "\n",
       "\n",
       "Estimation results for equation USD.AUD: \n",
       "======================================== \n",
       "USD.AUD = USD.EU.l1 + USD.GBP.l1 + USD.AUD.l1 + USD.NZ.l1 + USD.EU.l2 + USD.GBP.l2 + USD.AUD.l2 + USD.NZ.l2 \n",
       "\n",
       "            Estimate Std. Error t value Pr(>|t|)    \n",
       "USD.EU.l1   0.082787   0.057607   1.437 0.151947    \n",
       "USD.GBP.l1 -0.145286   0.039704  -3.659 0.000309 ***\n",
       "USD.AUD.l1  1.234911   0.088315  13.983  < 2e-16 ***\n",
       "USD.NZ.l1  -0.006481   0.085030  -0.076 0.939308    \n",
       "USD.EU.l2  -0.065520   0.057729  -1.135 0.257487    \n",
       "USD.GBP.l2  0.144611   0.039488   3.662 0.000306 ***\n",
       "USD.AUD.l2 -0.322370   0.087552  -3.682 0.000284 ***\n",
       "USD.NZ.l2   0.072630   0.087193   0.833 0.405659    \n",
       "---\n",
       "Signif. codes:  0 '***' 0.001 '**' 0.01 '*' 0.05 '.' 0.1 ' ' 1\n",
       "\n",
       "\n",
       "Residual standard error: 0.00776 on 248 degrees of freedom\n",
       "Multiple R-Squared: 0.9999,\tAdjusted R-squared: 0.9999 \n",
       "F-statistic: 3.098e+05 on 8 and 248 DF,  p-value: < 2.2e-16 \n",
       "\n",
       "\n",
       "Estimation results for equation USD.NZ: \n",
       "======================================= \n",
       "USD.NZ = USD.EU.l1 + USD.GBP.l1 + USD.AUD.l1 + USD.NZ.l1 + USD.EU.l2 + USD.GBP.l2 + USD.AUD.l2 + USD.NZ.l2 \n",
       "\n",
       "             Estimate Std. Error t value Pr(>|t|)    \n",
       "USD.EU.l1   0.0193901  0.0628472   0.309   0.7579    \n",
       "USD.GBP.l1 -0.1069246  0.0433160  -2.468   0.0142 *  \n",
       "USD.AUD.l1  0.0663790  0.0963495   0.689   0.4915    \n",
       "USD.NZ.l1   1.1176340  0.0927657  12.048   <2e-16 ***\n",
       "USD.EU.l2   0.0009144  0.0629804   0.015   0.9884    \n",
       "USD.GBP.l2  0.1050717  0.0430802   2.439   0.0154 *  \n",
       "USD.AUD.l2 -0.0791683  0.0955172  -0.829   0.4080    \n",
       "USD.NZ.l2  -0.1343861  0.0951254  -1.413   0.1590    \n",
       "---\n",
       "Signif. codes:  0 '***' 0.001 '**' 0.01 '*' 0.05 '.' 0.1 ' ' 1\n",
       "\n",
       "\n",
       "Residual standard error: 0.008466 on 248 degrees of freedom\n",
       "Multiple R-Squared: 0.9999,\tAdjusted R-squared: 0.9999 \n",
       "F-statistic: 2.25e+05 on 8 and 248 DF,  p-value: < 2.2e-16 \n",
       "\n",
       "\n",
       "\n",
       "Covariance matrix of residuals:\n",
       "           USD.EU   USD.GBP   USD.AUD    USD.NZ\n",
       "USD.EU  1.184e-04 8.353e-05 3.911e-05 4.893e-05\n",
       "USD.GBP 8.353e-05 2.106e-04 4.881e-05 4.701e-05\n",
       "USD.AUD 3.911e-05 4.881e-05 6.022e-05 4.682e-05\n",
       "USD.NZ  4.893e-05 4.701e-05 4.682e-05 7.167e-05\n",
       "\n",
       "Correlation matrix of residuals:\n",
       "        USD.EU USD.GBP USD.AUD USD.NZ\n",
       "USD.EU  1.0000  0.5289  0.4631 0.5311\n",
       "USD.GBP 0.5289  1.0000  0.4334 0.3826\n",
       "USD.AUD 0.4631  0.4334  1.0000 0.7127\n",
       "USD.NZ  0.5311  0.3826  0.7127 1.0000\n",
       "\n"
      ]
     },
     "metadata": {},
     "output_type": "display_data"
    }
   ],
   "source": [
    "## Fit VAR Model with Selected Order\n",
    "mod = VAR(data.ts,2, type=\"none\")\n",
    "summary(mod)"
   ]
  },
  {
   "cell_type": "code",
   "execution_count": 26,
   "metadata": {},
   "outputs": [
    {
     "data": {
      "text/plain": [
       "\n",
       "\tARCH (multivariate)\n",
       "\n",
       "data:  Residuals of VAR object mod\n",
       "Chi-squared = 686.73, df = 500, p-value = 5.245e-08\n",
       "\n",
       "$arch.mul\n",
       "\n",
       "\tARCH (multivariate)\n",
       "\n",
       "data:  Residuals of VAR object mod\n",
       "Chi-squared = 686.73, df = 500, p-value = 5.245e-08\n",
       "\n"
      ]
     },
     "metadata": {},
     "output_type": "display_data"
    }
   ],
   "source": [
    "## Residual Analysis: Constant Variance Assumption\n",
    "arch.test(mod)\n"
   ]
  },
  {
   "cell_type": "code",
   "execution_count": 27,
   "metadata": {},
   "outputs": [
    {
     "data": {
      "text/plain": [
       "$JB\n",
       "\n",
       "\tJB-Test (multivariate)\n",
       "\n",
       "data:  Residuals of VAR object mod\n",
       "Chi-squared = 271.95, df = 8, p-value < 2.2e-16\n",
       "\n",
       "\n",
       "$Skewness\n",
       "\n",
       "\tSkewness only (multivariate)\n",
       "\n",
       "data:  Residuals of VAR object mod\n",
       "Chi-squared = 37.581, df = 4, p-value = 1.367e-07\n",
       "\n",
       "\n",
       "$Kurtosis\n",
       "\n",
       "\tKurtosis only (multivariate)\n",
       "\n",
       "data:  Residuals of VAR object mod\n",
       "Chi-squared = 234.37, df = 4, p-value < 2.2e-16\n",
       "\n",
       "\n",
       "$jb.mul\n",
       "$jb.mul$JB\n",
       "\n",
       "\tJB-Test (multivariate)\n",
       "\n",
       "data:  Residuals of VAR object mod\n",
       "Chi-squared = 271.95, df = 8, p-value < 2.2e-16\n",
       "\n",
       "\n",
       "$jb.mul$Skewness\n",
       "\n",
       "\tSkewness only (multivariate)\n",
       "\n",
       "data:  Residuals of VAR object mod\n",
       "Chi-squared = 37.581, df = 4, p-value = 1.367e-07\n",
       "\n",
       "\n",
       "$jb.mul$Kurtosis\n",
       "\n",
       "\tKurtosis only (multivariate)\n",
       "\n",
       "data:  Residuals of VAR object mod\n",
       "Chi-squared = 234.37, df = 4, p-value < 2.2e-16\n",
       "\n",
       "\n"
      ]
     },
     "metadata": {},
     "output_type": "display_data"
    }
   ],
   "source": [
    "\n",
    "## Residual Analysis: Normality Assumption: JB\n",
    "normality.test(mod)\n",
    "\n"
   ]
  },
  {
   "cell_type": "code",
   "execution_count": 28,
   "metadata": {},
   "outputs": [
    {
     "data": {
      "text/plain": [
       "\n",
       "\tPortmanteau Test (asymptotic)\n",
       "\n",
       "data:  Residuals of VAR object mod\n",
       "Chi-squared = 262.94, df = 224, p-value = 0.03805\n",
       "\n",
       "$serial\n",
       "\n",
       "\tPortmanteau Test (asymptotic)\n",
       "\n",
       "data:  Residuals of VAR object mod\n",
       "Chi-squared = 262.94, df = 224, p-value = 0.03805\n",
       "\n"
      ]
     },
     "metadata": {},
     "output_type": "display_data"
    },
    {
     "data": {
      "image/png": "[encoded data removed]",
      "text/plain": [
       "Plot with title \"PACF of squared Residuals\""
      ]
     },
     "metadata": {},
     "output_type": "display_data"
    },
    {
     "data": {
      "image/png": "[encoded data removed]",
      "text/plain": [
       "Plot with title \"PACF of squared Residuals\""
      ]
     },
     "metadata": {},
     "output_type": "display_data"
    },
    {
     "data": {
      "image/png": "[encoded data removed]",
      "text/plain": [
       "Plot with title \"PACF of squared Residuals\""
      ]
     },
     "metadata": {},
     "output_type": "display_data"
    },
    {
     "data": {
      "image/png": "[encoded data removed]",
      "text/plain": [
       "Plot with title \"PACF of squared Residuals\""
      ]
     },
     "metadata": {},
     "output_type": "display_data"
    }
   ],
   "source": [
    "## Residual Analysis: Uncorrelated Errors Assumption: Portmonteau\n",
    "serial.test(mod)\n",
    "serialtest = serial.test(mod)\n",
    "plot(serialtest)\n",
    "\n"
   ]
  },
  {
   "cell_type": "code",
   "execution_count": 29,
   "metadata": {},
   "outputs": [
    {
     "data": {
      "text/html": [
       "0"
      ],
      "text/latex": [
       "0"
      ],
      "text/markdown": [
       "0"
      ],
      "text/plain": [
       "[1] 0"
      ]
     },
     "metadata": {},
     "output_type": "display_data"
    }
   ],
   "source": [
    "## roots analysis: is this VAR process stable?\n",
    "roots_mod = roots(mod)\n",
    "sum(roots_mod>=1)"
   ]
  },
  {
   "cell_type": "code",
   "execution_count": 30,
   "metadata": {},
   "outputs": [
    {
     "data": {
      "text/plain": [
       "$USD.EU\n",
       "         fcst    lower    upper         CI\n",
       "[1,] 1.118771 1.097438 1.140103 0.02133203\n",
       "[2,] 1.117654 1.085185 1.150123 0.03246897\n",
       "[3,] 1.116491 1.075443 1.157539 0.04104760\n",
       "[4,] 1.115348 1.067149 1.163548 0.04819962\n",
       "[5,] 1.114239 1.059805 1.168673 0.05443391\n",
       "[6,] 1.113164 1.053142 1.173187 0.06002261\n",
       "[7,] 1.112122 1.046994 1.177250 0.06512814\n",
       "[8,] 1.111109 1.041254 1.180965 0.06985550\n",
       "\n",
       "$USD.GBP\n",
       "         fcst    lower    upper         CI\n",
       "[1,] 1.262675 1.234231 1.291119 0.02844404\n",
       "[2,] 1.260379 1.216346 1.304413 0.04403367\n",
       "[3,] 1.258171 1.202498 1.313844 0.05567331\n",
       "[4,] 1.256105 1.191026 1.321184 0.06507878\n",
       "[5,] 1.254182 1.181105 1.327259 0.07307676\n",
       "[6,] 1.252392 1.172290 1.332493 0.08010151\n",
       "[7,] 1.250722 1.164318 1.337127 0.08640449\n",
       "[8,] 1.249162 1.157018 1.341307 0.09214436\n",
       "\n",
       "$USD.AUD\n",
       "          fcst     lower     upper         CI\n",
       "[1,] 0.6976406 0.6824305 0.7128507 0.01521012\n",
       "[2,] 0.6995903 0.6759823 0.7231984 0.02360806\n",
       "[3,] 0.7012592 0.6713868 0.7311316 0.02987242\n",
       "[4,] 0.7027275 0.6679146 0.7375405 0.03481292\n",
       "[5,] 0.7040261 0.6651246 0.7429275 0.03890147\n",
       "[6,] 0.7051736 0.6627511 0.7475961 0.04242250\n",
       "[7,] 0.7061849 0.6606351 0.7517347 0.04554979\n",
       "[8,] 0.7070730 0.6586809 0.7554652 0.04839214\n",
       "\n",
       "$USD.NZ\n",
       "          fcst     lower     upper         CI\n",
       "[1,] 0.6579957 0.6414019 0.6745895 0.01659383\n",
       "[2,] 0.6590455 0.6341897 0.6839012 0.02485576\n",
       "[3,] 0.6599535 0.6289675 0.6909396 0.03098601\n",
       "[4,] 0.6607551 0.6247897 0.6967205 0.03596540\n",
       "[5,] 0.6614599 0.6212409 0.7016789 0.04021897\n",
       "[6,] 0.6620758 0.6181130 0.7060387 0.04396283\n",
       "[7,] 0.6626104 0.6152885 0.7099323 0.04732190\n",
       "[8,] 0.6630706 0.6126944 0.7134468 0.05037621\n"
      ]
     },
     "metadata": {},
     "output_type": "display_data"
    },
    {
     "data": {
      "text/html": [
       "<style>\n",
       ".list-inline {list-style: none; margin:0; padding: 0}\n",
       ".list-inline>li {display: inline-block}\n",
       ".list-inline>li:not(:last-child)::after {content: \"\\00b7\"; padding: 0 .5ex}\n",
       "</style>\n",
       "<ol class=list-inline><li>1.11877052010385</li><li>1.11765401667478</li><li>1.11649098215931</li><li>1.11534837676379</li><li>1.11423909445152</li><li>1.1131641849282</li><li>1.11212175202254</li><li>1.11110923168992</li></ol>\n"
      ],
      "text/latex": [
       "\\begin{enumerate*}\n",
       "\\item 1.11877052010385\n",
       "\\item 1.11765401667478\n",
       "\\item 1.11649098215931\n",
       "\\item 1.11534837676379\n",
       "\\item 1.11423909445152\n",
       "\\item 1.1131641849282\n",
       "\\item 1.11212175202254\n",
       "\\item 1.11110923168992\n",
       "\\end{enumerate*}\n"
      ],
      "text/markdown": [
       "1. 1.11877052010385\n",
       "2. 1.11765401667478\n",
       "3. 1.11649098215931\n",
       "4. 1.11534837676379\n",
       "5. 1.11423909445152\n",
       "6. 1.1131641849282\n",
       "7. 1.11212175202254\n",
       "8. 1.11110923168992\n",
       "\n",
       "\n"
      ],
      "text/plain": [
       "[1] 1.118771 1.117654 1.116491 1.115348 1.114239 1.113164 1.112122 1.111109"
      ]
     },
     "metadata": {},
     "output_type": "display_data"
    },
    {
     "data": {
      "text/html": [
       "<style>\n",
       ".list-inline {list-style: none; margin:0; padding: 0}\n",
       ".list-inline>li {display: inline-block}\n",
       ".list-inline>li:not(:last-child)::after {content: \"\\00b7\"; padding: 0 .5ex}\n",
       "</style>\n",
       "<ol class=list-inline><li>1.26267539689068</li><li>1.26037936375842</li><li>1.25817115970617</li><li>1.25610515553993</li><li>1.25418216585106</li><li>1.25239181444358</li><li>1.25072230815975</li><li>1.2491624460921</li></ol>\n"
      ],
      "text/latex": [
       "\\begin{enumerate*}\n",
       "\\item 1.26267539689068\n",
       "\\item 1.26037936375842\n",
       "\\item 1.25817115970617\n",
       "\\item 1.25610515553993\n",
       "\\item 1.25418216585106\n",
       "\\item 1.25239181444358\n",
       "\\item 1.25072230815975\n",
       "\\item 1.2491624460921\n",
       "\\end{enumerate*}\n"
      ],
      "text/markdown": [
       "1. 1.26267539689068\n",
       "2. 1.26037936375842\n",
       "3. 1.25817115970617\n",
       "4. 1.25610515553993\n",
       "5. 1.25418216585106\n",
       "6. 1.25239181444358\n",
       "7. 1.25072230815975\n",
       "8. 1.2491624460921\n",
       "\n",
       "\n"
      ],
      "text/plain": [
       "[1] 1.262675 1.260379 1.258171 1.256105 1.254182 1.252392 1.250722 1.249162"
      ]
     },
     "metadata": {},
     "output_type": "display_data"
    },
    {
     "data": {
      "text/html": [
       "<style>\n",
       ".list-inline {list-style: none; margin:0; padding: 0}\n",
       ".list-inline>li {display: inline-block}\n",
       ".list-inline>li:not(:last-child)::after {content: \"\\00b7\"; padding: 0 .5ex}\n",
       "</style>\n",
       "<ol class=list-inline><li>0.697640584419021</li><li>0.699590322693914</li><li>0.701259178415936</li><li>0.702727549835255</li><li>0.704026069858698</li><li>0.705173563035706</li><li>0.706184930235745</li><li>0.707073012927533</li></ol>\n"
      ],
      "text/latex": [
       "\\begin{enumerate*}\n",
       "\\item 0.697640584419021\n",
       "\\item 0.699590322693914\n",
       "\\item 0.701259178415936\n",
       "\\item 0.702727549835255\n",
       "\\item 0.704026069858698\n",
       "\\item 0.705173563035706\n",
       "\\item 0.706184930235745\n",
       "\\item 0.707073012927533\n",
       "\\end{enumerate*}\n"
      ],
      "text/markdown": [
       "1. 0.697640584419021\n",
       "2. 0.699590322693914\n",
       "3. 0.701259178415936\n",
       "4. 0.702727549835255\n",
       "5. 0.704026069858698\n",
       "6. 0.705173563035706\n",
       "7. 0.706184930235745\n",
       "8. 0.707073012927533\n",
       "\n",
       "\n"
      ],
      "text/plain": [
       "[1] 0.6976406 0.6995903 0.7012592 0.7027275 0.7040261 0.7051736 0.7061849\n",
       "[8] 0.7070730"
      ]
     },
     "metadata": {},
     "output_type": "display_data"
    },
    {
     "data": {
      "text/html": [
       "<style>\n",
       ".list-inline {list-style: none; margin:0; padding: 0}\n",
       ".list-inline>li {display: inline-block}\n",
       ".list-inline>li:not(:last-child)::after {content: \"\\00b7\"; padding: 0 .5ex}\n",
       "</style>\n",
       "<ol class=list-inline><li>0.657995685339695</li><li>0.659045460376422</li><li>0.65995354555387</li><li>0.660755087721039</li><li>0.661459901252794</li><li>0.662075837144106</li><li>0.662610402622616</li><li>0.663070566680686</li></ol>\n"
      ],
      "text/latex": [
       "\\begin{enumerate*}\n",
       "\\item 0.657995685339695\n",
       "\\item 0.659045460376422\n",
       "\\item 0.65995354555387\n",
       "\\item 0.660755087721039\n",
       "\\item 0.661459901252794\n",
       "\\item 0.662075837144106\n",
       "\\item 0.662610402622616\n",
       "\\item 0.663070566680686\n",
       "\\end{enumerate*}\n"
      ],
      "text/markdown": [
       "1. 0.657995685339695\n",
       "2. 0.659045460376422\n",
       "3. 0.65995354555387\n",
       "4. 0.660755087721039\n",
       "5. 0.661459901252794\n",
       "6. 0.662075837144106\n",
       "7. 0.662610402622616\n",
       "8. 0.663070566680686\n",
       "\n",
       "\n"
      ],
      "text/plain": [
       "[1] 0.6579957 0.6590455 0.6599535 0.6607551 0.6614599 0.6620758 0.6626104\n",
       "[8] 0.6630706"
      ]
     },
     "metadata": {},
     "output_type": "display_data"
    }
   ],
   "source": [
    "pred=predict(mod, n.ahead=8)\n",
    "pred\n",
    "pred[[1]]$USD.EU[,1]\n",
    "pred[[1]]$USD.GBP[,1]\n",
    "pred[[1]]$USD.AUD[,1]\n",
    "pred[[1]]$USD.NZ[,1]"
   ]
  },
  {
   "cell_type": "code",
   "execution_count": 31,
   "metadata": {},
   "outputs": [
    {
     "data": {
      "text/html": [
       "<style>\n",
       ".list-inline {list-style: none; margin:0; padding: 0}\n",
       ".list-inline>li {display: inline-block}\n",
       ".list-inline>li:not(:last-child)::after {content: \"\\00b7\"; padding: 0 .5ex}\n",
       "</style>\n",
       "<ol class=list-inline><li>1.11877052010385</li><li>1.11765401667478</li><li>1.11649098215931</li><li>1.11534837676379</li><li>1.11423909445152</li><li>1.1131641849282</li><li>1.11212175202254</li><li>1.11110923168992</li></ol>\n"
      ],
      "text/latex": [
       "\\begin{enumerate*}\n",
       "\\item 1.11877052010385\n",
       "\\item 1.11765401667478\n",
       "\\item 1.11649098215931\n",
       "\\item 1.11534837676379\n",
       "\\item 1.11423909445152\n",
       "\\item 1.1131641849282\n",
       "\\item 1.11212175202254\n",
       "\\item 1.11110923168992\n",
       "\\end{enumerate*}\n"
      ],
      "text/markdown": [
       "1. 1.11877052010385\n",
       "2. 1.11765401667478\n",
       "3. 1.11649098215931\n",
       "4. 1.11534837676379\n",
       "5. 1.11423909445152\n",
       "6. 1.1131641849282\n",
       "7. 1.11212175202254\n",
       "8. 1.11110923168992\n",
       "\n",
       "\n"
      ],
      "text/plain": [
       "[1] 1.118771 1.117654 1.116491 1.115348 1.114239 1.113164 1.112122 1.111109"
      ]
     },
     "metadata": {},
     "output_type": "display_data"
    },
    {
     "data": {
      "image/png": "[encoded data removed]",
      "text/plain": [
       "Plot with title \"EUR\""
      ]
     },
     "metadata": {},
     "output_type": "display_data"
    }
   ],
   "source": [
    "pred[[1]]$USD.EU[,1]\n",
    "\n",
    "ubound = pred[[1]]$USD.EU[,2]\n",
    "lbound = pred[[1]]$USD.EU[,3]\n",
    "\n",
    "ymin = min(c(ubound,lbound,pred[[1]]$USD.EU[,1]))\n",
    "ymax = max(c(ubound,lbound,pred[[1]]$USD.EU[,1]))\n",
    "\n",
    "\n",
    "par(mfrow=c(2,2))\n",
    "\n",
    "\n",
    "par(mfrow=c(2,2))\n",
    "plot(1:8, test[,2], type=\"l\", ylim=c(ymin,ymax), xlab=\"\", ylab=\"\", main=\"EUR\") \n",
    "points(1:8,pred[[1]]$USD.EU[,1],col=\"red\") \n",
    "lines(1:8, ubound,lty=3,lwd= 2, col=\"blue\")\n",
    "lines(1:8, lbound,lty=3,lwd= 2, col=\"blue\")"
   ]
  },
  {
   "cell_type": "code",
   "execution_count": 32,
   "metadata": {},
   "outputs": [
    {
     "data": {
      "text/html": [
       "<style>\n",
       ".list-inline {list-style: none; margin:0; padding: 0}\n",
       ".list-inline>li {display: inline-block}\n",
       ".list-inline>li:not(:last-child)::after {content: \"\\00b7\"; padding: 0 .5ex}\n",
       "</style>\n",
       "<ol class=list-inline><li>1.26267539689068</li><li>1.26037936375842</li><li>1.25817115970617</li><li>1.25610515553993</li><li>1.25418216585106</li><li>1.25239181444358</li><li>1.25072230815975</li><li>1.2491624460921</li></ol>\n"
      ],
      "text/latex": [
       "\\begin{enumerate*}\n",
       "\\item 1.26267539689068\n",
       "\\item 1.26037936375842\n",
       "\\item 1.25817115970617\n",
       "\\item 1.25610515553993\n",
       "\\item 1.25418216585106\n",
       "\\item 1.25239181444358\n",
       "\\item 1.25072230815975\n",
       "\\item 1.2491624460921\n",
       "\\end{enumerate*}\n"
      ],
      "text/markdown": [
       "1. 1.26267539689068\n",
       "2. 1.26037936375842\n",
       "3. 1.25817115970617\n",
       "4. 1.25610515553993\n",
       "5. 1.25418216585106\n",
       "6. 1.25239181444358\n",
       "7. 1.25072230815975\n",
       "8. 1.2491624460921\n",
       "\n",
       "\n"
      ],
      "text/plain": [
       "[1] 1.262675 1.260379 1.258171 1.256105 1.254182 1.252392 1.250722 1.249162"
      ]
     },
     "metadata": {},
     "output_type": "display_data"
    },
    {
     "data": {
      "image/png": "[encoded data removed]",
      "text/plain": [
       "Plot with title \"GBP\""
      ]
     },
     "metadata": {},
     "output_type": "display_data"
    }
   ],
   "source": [
    "pred[[1]]$USD.GBP[,1]\n",
    "\n",
    "ubound = pred[[1]]$USD.GBP[,2]\n",
    "lbound = pred[[1]]$USD.GBP[,3]\n",
    "\n",
    "ymin = min(c(ubound,lbound,pred[[1]]$USD.GBP[,1]))\n",
    "ymax = max(c(ubound,lbound,pred[[1]]$USD.GBP[,1]))\n",
    "\n",
    "\n",
    "par(mfrow=c(2,2))\n",
    "a=nrow(data)-9\n",
    "b=nrow(data)\n",
    "\n",
    "par(mfrow=c(2,2))\n",
    "plot(1:8, test[,3], type=\"l\", ylim=c(ymin,ymax), xlab=\"\", ylab=\"\", main=\"GBP\") \n",
    "points(1:8,pred[[1]]$USD.GBP[,1],col=\"red\") \n",
    "lines(1:8, ubound,lty=3,lwd= 2, col=\"blue\")\n",
    "lines(1:8, lbound,lty=3,lwd= 2, col=\"blue\")"
   ]
  },
  {
   "cell_type": "code",
   "execution_count": 33,
   "metadata": {},
   "outputs": [
    {
     "data": {
      "text/html": [
       "<style>\n",
       ".list-inline {list-style: none; margin:0; padding: 0}\n",
       ".list-inline>li {display: inline-block}\n",
       ".list-inline>li:not(:last-child)::after {content: \"\\00b7\"; padding: 0 .5ex}\n",
       "</style>\n",
       "<ol class=list-inline><li>0.697640584419021</li><li>0.699590322693914</li><li>0.701259178415936</li><li>0.702727549835255</li><li>0.704026069858698</li><li>0.705173563035706</li><li>0.706184930235745</li><li>0.707073012927533</li></ol>\n"
      ],
      "text/latex": [
       "\\begin{enumerate*}\n",
       "\\item 0.697640584419021\n",
       "\\item 0.699590322693914\n",
       "\\item 0.701259178415936\n",
       "\\item 0.702727549835255\n",
       "\\item 0.704026069858698\n",
       "\\item 0.705173563035706\n",
       "\\item 0.706184930235745\n",
       "\\item 0.707073012927533\n",
       "\\end{enumerate*}\n"
      ],
      "text/markdown": [
       "1. 0.697640584419021\n",
       "2. 0.699590322693914\n",
       "3. 0.701259178415936\n",
       "4. 0.702727549835255\n",
       "5. 0.704026069858698\n",
       "6. 0.705173563035706\n",
       "7. 0.706184930235745\n",
       "8. 0.707073012927533\n",
       "\n",
       "\n"
      ],
      "text/plain": [
       "[1] 0.6976406 0.6995903 0.7012592 0.7027275 0.7040261 0.7051736 0.7061849\n",
       "[8] 0.7070730"
      ]
     },
     "metadata": {},
     "output_type": "display_data"
    },
    {
     "data": {
      "image/png": "[encoded data removed]",
      "text/plain": [
       "Plot with title \"AUD\""
      ]
     },
     "metadata": {},
     "output_type": "display_data"
    }
   ],
   "source": [
    "pred[[1]]$USD.AUD[,1]\n",
    "\n",
    "ubound = pred[[1]]$USD.AUD[,2]\n",
    "lbound = pred[[1]]$USD.AUD[,3]\n",
    "\n",
    "ymin = min(c(ubound,lbound,pred[[1]]$USD.AUD[,1]))\n",
    "ymax = max(c(ubound,lbound,pred[[1]]$USD.AUD[,1]))\n",
    "\n",
    "\n",
    "par(mfrow=c(2,2))\n",
    "a=nrow(data)-9\n",
    "b=nrow(data)\n",
    "\n",
    "par(mfrow=c(2,2))\n",
    "plot(1:8, test[,4], type=\"l\", ylim=c(ymin,ymax), xlab=\"\", ylab=\"\", main=\"AUD\") \n",
    "points(1:8,pred[[1]]$USD.AUD[,1],col=\"red\") \n",
    "lines(1:8, ubound,lty=3,lwd= 2, col=\"blue\")\n",
    "lines(1:8, lbound,lty=3,lwd= 2, col=\"blue\")"
   ]
  },
  {
   "cell_type": "code",
   "execution_count": 34,
   "metadata": {},
   "outputs": [
    {
     "data": {
      "text/html": [
       "<style>\n",
       ".list-inline {list-style: none; margin:0; padding: 0}\n",
       ".list-inline>li {display: inline-block}\n",
       ".list-inline>li:not(:last-child)::after {content: \"\\00b7\"; padding: 0 .5ex}\n",
       "</style>\n",
       "<ol class=list-inline><li>0.657995685339695</li><li>0.659045460376422</li><li>0.65995354555387</li><li>0.660755087721039</li><li>0.661459901252794</li><li>0.662075837144106</li><li>0.662610402622616</li><li>0.663070566680686</li></ol>\n"
      ],
      "text/latex": [
       "\\begin{enumerate*}\n",
       "\\item 0.657995685339695\n",
       "\\item 0.659045460376422\n",
       "\\item 0.65995354555387\n",
       "\\item 0.660755087721039\n",
       "\\item 0.661459901252794\n",
       "\\item 0.662075837144106\n",
       "\\item 0.662610402622616\n",
       "\\item 0.663070566680686\n",
       "\\end{enumerate*}\n"
      ],
      "text/markdown": [
       "1. 0.657995685339695\n",
       "2. 0.659045460376422\n",
       "3. 0.65995354555387\n",
       "4. 0.660755087721039\n",
       "5. 0.661459901252794\n",
       "6. 0.662075837144106\n",
       "7. 0.662610402622616\n",
       "8. 0.663070566680686\n",
       "\n",
       "\n"
      ],
      "text/plain": [
       "[1] 0.6579957 0.6590455 0.6599535 0.6607551 0.6614599 0.6620758 0.6626104\n",
       "[8] 0.6630706"
      ]
     },
     "metadata": {},
     "output_type": "display_data"
    },
    {
     "data": {
      "image/png": "[encoded data removed]",
      "text/plain": [
       "Plot with title \"NZ\""
      ]
     },
     "metadata": {},
     "output_type": "display_data"
    }
   ],
   "source": [
    "pred[[1]]$USD.NZ[,1]\n",
    "\n",
    "ubound = pred[[1]]$USD.NZ[,2]\n",
    "lbound = pred[[1]]$USD.NZ[,3]\n",
    "\n",
    "ymin = min(c(ubound,lbound,pred[[1]]$USD.NZ[,1]))\n",
    "ymax = max(c(ubound,lbound,pred[[1]]$USD.NZ[,1]))\n",
    "\n",
    "\n",
    "par(mfrow=c(2,2))\n",
    "a=nrow(data)-9\n",
    "b=nrow(data)\n",
    "\n",
    "par(mfrow=c(2,2))\n",
    "plot(1:8,test[,5], type=\"l\", ylim=c(ymin,ymax), xlab=\"\", ylab=\"\", main=\"NZ\") \n",
    "points(1:8,pred[[1]]$USD.NZ[,1],col=\"red\") \n",
    "lines(1:8, ubound,lty=3,lwd= 2, col=\"blue\")\n",
    "lines(1:8, lbound,lty=3,lwd= 2, col=\"blue\")"
   ]
  },
  {
   "cell_type": "code",
   "execution_count": 35,
   "metadata": {},
   "outputs": [
    {
     "data": {
      "text/html": [
       "0.919239079065751"
      ],
      "text/latex": [
       "0.919239079065751"
      ],
      "text/markdown": [
       "0.919239079065751"
      ],
      "text/plain": [
       "[1] 0.9192391"
      ]
     },
     "metadata": {},
     "output_type": "display_data"
    },
    {
     "data": {
      "text/html": [
       "0.588011993324681"
      ],
      "text/latex": [
       "0.588011993324681"
      ],
      "text/markdown": [
       "0.588011993324681"
      ],
      "text/plain": [
       "[1] 0.588012"
      ]
     },
     "metadata": {},
     "output_type": "display_data"
    },
    {
     "data": {
      "text/html": [
       "0.975958215214755"
      ],
      "text/latex": [
       "0.975958215214755"
      ],
      "text/markdown": [
       "0.975958215214755"
      ],
      "text/plain": [
       "[1] 0.9759582"
      ]
     },
     "metadata": {},
     "output_type": "display_data"
    },
    {
     "data": {
      "text/html": [
       "0.801521852031023"
      ],
      "text/latex": [
       "0.801521852031023"
      ],
      "text/markdown": [
       "0.801521852031023"
      ],
      "text/plain": [
       "[1] 0.8015219"
      ]
     },
     "metadata": {},
     "output_type": "display_data"
    }
   ],
   "source": [
    "obs1=test[,2]\n",
    "MAPE1=mean(abs(pred[[1]]$USD.EU[,1]-obs1)/obs1)*100\n",
    "MAPE1\n",
    "\n",
    "\n",
    "\n",
    "obs2=test[,3]\n",
    "MAPE2=mean(abs(pred[[1]]$USD.GBP[,1]-obs2)/obs2)*100\n",
    "MAPE2\n",
    "\n",
    "\n",
    "obs3=test[,4]\n",
    "MAPE3=mean(abs(pred[[1]]$USD.AUD[,1]-obs3)/obs3)*100\n",
    "MAPE3\n",
    "\n",
    "\n",
    "obs4=test[,5]\n",
    "MAPE4=mean(abs(pred[[1]]$USD.NZ[,1]-obs4)/obs4)*100 \n",
    "MAPE4\n"
   ]
  }
 ],
 "metadata": {
  "kernelspec": {
   "display_name": "R",
   "language": "R",
   "name": "ir"
  },
  "language_info": {
   "codemirror_mode": "r",
   "file_extension": ".r",
   "mimetype": "text/x-r-source",
   "name": "R",
   "pygments_lexer": "r",
   "version": "3.6.1"
  }
 },
 "nbformat": 4,
 "nbformat_minor": 2
}
